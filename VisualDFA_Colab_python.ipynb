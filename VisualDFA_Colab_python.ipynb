{
  "nbformat": 4,
  "nbformat_minor": 0,
  "metadata": {
    "colab": {
      "provenance": [],
      "collapsed_sections": [],
      "include_colab_link": true
    },
    "kernelspec": {
      "name": "python3",
      "display_name": "Python 3"
    },
    "language_info": {
      "name": "python"
    }
  },
  "cells": [
    {
      "cell_type": "markdown",
      "metadata": {
        "id": "view-in-github",
        "colab_type": "text"
      },
      "source": [
        "<a href=\"https://colab.research.google.com/github/Albert1915/Albert1915/blob/main/VisualDFA_Colab_python.ipynb\" target=\"_parent\"><img src=\"https://colab.research.google.com/assets/colab-badge.svg\" alt=\"Open In Colab\"/></a>"
      ]
    },
    {
      "cell_type": "markdown",
      "source": [
        "NAMA  : Albert Okario\n",
        "\n",
        "NIM : 2108561059\n",
        "\n",
        "PRODI  : INFORMATIKA\n",
        "\n",
        "SEMESTER  : 3\n",
        "\n",
        "MK  : TBO \n",
        "\n",
        "PT PENERIMA : UNIVERSITAS UDAYANA"
      ],
      "metadata": {
        "id": "6flYeYB82y9j"
      }
    },
    {
      "cell_type": "markdown",
      "source": [
        "🙂  🙂  🙂  🙂  🙂  🙂  🙂  🙂  🙂  🙂  🙂  🙂  🙂"
      ],
      "metadata": {
        "id": "-r7oCaEt3hoS"
      }
    },
    {
      "cell_type": "markdown",
      "source": [
        "**Instal pustaka yang dibutuhkan**\n",
        "\n"
      ],
      "metadata": {
        "id": "Dj19uvF2qf82"
      }
    },
    {
      "cell_type": "markdown",
      "source": [
        "1.   automata-lib\n",
        "2.   visual-automata"
      ],
      "metadata": {
        "id": "s_mcB90Iy0gb"
      }
    },
    {
      "cell_type": "markdown",
      "source": [
        "automata-lib --> Pustaka Python untuk mensimulasikan mesin automata dan Turing."
      ],
      "metadata": {
        "id": "T0PLM4uRoVpx"
      }
    },
    {
      "cell_type": "code",
      "source": [
        "pip install automata-lib"
      ],
      "metadata": {
        "id": "_2nYuEjyS4q0",
        "colab": {
          "base_uri": "https://localhost:8080/"
        },
        "outputId": "20a4d358-035e-4c11-d3fd-3b7a88355f20"
      },
      "execution_count": null,
      "outputs": [
        {
          "output_type": "stream",
          "name": "stdout",
          "text": [
            "Looking in indexes: https://pypi.org/simple, https://us-python.pkg.dev/colab-wheels/public/simple/\n",
            "Collecting automata-lib\n",
            "  Downloading automata_lib-6.0.2-py3-none-any.whl (41 kB)\n",
            "\u001b[K     |████████████████████████████████| 41 kB 613 kB/s \n",
            "\u001b[?25hRequirement already satisfied: networkx>=2.6.2 in /usr/local/lib/python3.7/dist-packages (from automata-lib) (2.6.3)\n",
            "Collecting pydot>=1.4.2\n",
            "  Downloading pydot-1.4.2-py2.py3-none-any.whl (21 kB)\n",
            "Requirement already satisfied: pyparsing>=2.1.4 in /usr/local/lib/python3.7/dist-packages (from pydot>=1.4.2->automata-lib) (3.0.9)\n",
            "Installing collected packages: pydot, automata-lib\n",
            "  Attempting uninstall: pydot\n",
            "    Found existing installation: pydot 1.3.0\n",
            "    Uninstalling pydot-1.3.0:\n",
            "      Successfully uninstalled pydot-1.3.0\n",
            "Successfully installed automata-lib-6.0.2 pydot-1.4.2\n"
          ]
        }
      ]
    },
    {
      "cell_type": "markdown",
      "source": [
        "\n",
        "\n",
        "---\n",
        "\n"
      ],
      "metadata": {
        "id": "o6v2no4UzWc2"
      }
    },
    {
      "cell_type": "markdown",
      "source": [
        "visual-automata --> Visual Automata adalah pustaka Python 3 yang dibuat sebagai pembungkus pustaka Automata untuk menambahkan lebih banyak fitur visualisasi."
      ],
      "metadata": {
        "id": "F7yyqDIXtcWb"
      }
    },
    {
      "cell_type": "code",
      "source": [
        "pip install visual-automata"
      ],
      "metadata": {
        "id": "XQLbOA6hUiQX",
        "colab": {
          "base_uri": "https://localhost:8080/"
        },
        "outputId": "7cda0680-6f76-4121-9e3f-33906b25e559"
      },
      "execution_count": null,
      "outputs": [
        {
          "output_type": "stream",
          "name": "stdout",
          "text": [
            "Looking in indexes: https://pypi.org/simple, https://us-python.pkg.dev/colab-wheels/public/simple/\n",
            "Requirement already satisfied: visual-automata in /usr/local/lib/python3.7/dist-packages (1.1.1)\n",
            "Requirement already satisfied: pandas in /usr/local/lib/python3.7/dist-packages (from visual-automata) (1.3.5)\n",
            "Requirement already satisfied: graphviz in /usr/local/lib/python3.7/dist-packages (from visual-automata) (0.10.1)\n",
            "Requirement already satisfied: forbiddenfruit in /usr/local/lib/python3.7/dist-packages (from visual-automata) (0.1.4)\n",
            "Requirement already satisfied: automata-lib in /usr/local/lib/python3.7/dist-packages (from visual-automata) (6.0.2)\n",
            "Requirement already satisfied: jupyterlab in /usr/local/lib/python3.7/dist-packages (from visual-automata) (3.4.8)\n",
            "Requirement already satisfied: colormath in /usr/local/lib/python3.7/dist-packages (from visual-automata) (3.0.0)\n",
            "Requirement already satisfied: networkx>=2.6.2 in /usr/local/lib/python3.7/dist-packages (from automata-lib->visual-automata) (2.6.3)\n",
            "Requirement already satisfied: pydot>=1.4.2 in /usr/local/lib/python3.7/dist-packages (from automata-lib->visual-automata) (1.4.2)\n",
            "Requirement already satisfied: pyparsing>=2.1.4 in /usr/local/lib/python3.7/dist-packages (from pydot>=1.4.2->automata-lib->visual-automata) (3.0.9)\n",
            "Requirement already satisfied: numpy in /usr/local/lib/python3.7/dist-packages (from colormath->visual-automata) (1.21.6)\n",
            "Requirement already satisfied: jupyter-server~=1.16 in /usr/local/lib/python3.7/dist-packages (from jupyterlab->visual-automata) (1.19.1)\n",
            "Requirement already satisfied: jupyter-core in /usr/local/lib/python3.7/dist-packages (from jupyterlab->visual-automata) (4.11.1)\n",
            "Requirement already satisfied: jupyterlab-server~=2.10 in /usr/local/lib/python3.7/dist-packages (from jupyterlab->visual-automata) (2.15.2)\n",
            "Requirement already satisfied: nbclassic in /usr/local/lib/python3.7/dist-packages (from jupyterlab->visual-automata) (0.4.4)\n",
            "Requirement already satisfied: packaging in /usr/local/lib/python3.7/dist-packages (from jupyterlab->visual-automata) (21.3)\n",
            "Requirement already satisfied: ipython in /usr/local/lib/python3.7/dist-packages (from jupyterlab->visual-automata) (7.9.0)\n",
            "Requirement already satisfied: jinja2>=2.1 in /usr/local/lib/python3.7/dist-packages (from jupyterlab->visual-automata) (3.1.2)\n",
            "Requirement already satisfied: tomli in /usr/local/lib/python3.7/dist-packages (from jupyterlab->visual-automata) (2.0.1)\n",
            "Requirement already satisfied: notebook<7 in /usr/local/lib/python3.7/dist-packages (from jupyterlab->visual-automata) (5.3.1)\n",
            "Requirement already satisfied: tornado>=6.1.0 in /usr/local/lib/python3.7/dist-packages (from jupyterlab->visual-automata) (6.2)\n",
            "Requirement already satisfied: MarkupSafe>=2.0 in /usr/local/lib/python3.7/dist-packages (from jinja2>=2.1->jupyterlab->visual-automata) (2.0.1)\n",
            "Requirement already satisfied: nbconvert>=6.4.4 in /usr/local/lib/python3.7/dist-packages (from jupyter-server~=1.16->jupyterlab->visual-automata) (7.1.0)\n",
            "Requirement already satisfied: terminado>=0.8.3 in /usr/local/lib/python3.7/dist-packages (from jupyter-server~=1.16->jupyterlab->visual-automata) (0.13.3)\n",
            "Requirement already satisfied: jupyter-client>=6.1.12 in /usr/local/lib/python3.7/dist-packages (from jupyter-server~=1.16->jupyterlab->visual-automata) (6.1.12)\n",
            "Requirement already satisfied: traitlets>=5.1 in /usr/local/lib/python3.7/dist-packages (from jupyter-server~=1.16->jupyterlab->visual-automata) (5.4.0)\n",
            "Requirement already satisfied: prometheus-client in /usr/local/lib/python3.7/dist-packages (from jupyter-server~=1.16->jupyterlab->visual-automata) (0.14.1)\n",
            "Requirement already satisfied: pyzmq>=17 in /usr/local/lib/python3.7/dist-packages (from jupyter-server~=1.16->jupyterlab->visual-automata) (23.2.1)\n",
            "Requirement already satisfied: anyio<4,>=3.1.0 in /usr/local/lib/python3.7/dist-packages (from jupyter-server~=1.16->jupyterlab->visual-automata) (3.6.1)\n",
            "Requirement already satisfied: Send2Trash in /usr/local/lib/python3.7/dist-packages (from jupyter-server~=1.16->jupyterlab->visual-automata) (1.8.0)\n",
            "Requirement already satisfied: argon2-cffi in /usr/local/lib/python3.7/dist-packages (from jupyter-server~=1.16->jupyterlab->visual-automata) (21.3.0)\n",
            "Requirement already satisfied: nbformat>=5.2.0 in /usr/local/lib/python3.7/dist-packages (from jupyter-server~=1.16->jupyterlab->visual-automata) (5.4.0)\n",
            "Requirement already satisfied: websocket-client in /usr/local/lib/python3.7/dist-packages (from jupyter-server~=1.16->jupyterlab->visual-automata) (1.4.1)\n",
            "Requirement already satisfied: sniffio>=1.1 in /usr/local/lib/python3.7/dist-packages (from anyio<4,>=3.1.0->jupyter-server~=1.16->jupyterlab->visual-automata) (1.3.0)\n",
            "Requirement already satisfied: typing-extensions in /usr/local/lib/python3.7/dist-packages (from anyio<4,>=3.1.0->jupyter-server~=1.16->jupyterlab->visual-automata) (4.1.1)\n",
            "Requirement already satisfied: idna>=2.8 in /usr/local/lib/python3.7/dist-packages (from anyio<4,>=3.1.0->jupyter-server~=1.16->jupyterlab->visual-automata) (2.10)\n",
            "Requirement already satisfied: python-dateutil>=2.1 in /usr/local/lib/python3.7/dist-packages (from jupyter-client>=6.1.12->jupyter-server~=1.16->jupyterlab->visual-automata) (2.8.2)\n",
            "Requirement already satisfied: jsonschema>=3.0.1 in /usr/local/lib/python3.7/dist-packages (from jupyterlab-server~=2.10->jupyterlab->visual-automata) (4.3.3)\n",
            "Requirement already satisfied: babel in /usr/local/lib/python3.7/dist-packages (from jupyterlab-server~=2.10->jupyterlab->visual-automata) (2.10.3)\n",
            "Requirement already satisfied: json5 in /usr/local/lib/python3.7/dist-packages (from jupyterlab-server~=2.10->jupyterlab->visual-automata) (0.9.10)\n",
            "Requirement already satisfied: requests in /usr/local/lib/python3.7/dist-packages (from jupyterlab-server~=2.10->jupyterlab->visual-automata) (2.23.0)\n",
            "Requirement already satisfied: importlib-metadata>=3.6 in /usr/local/lib/python3.7/dist-packages (from jupyterlab-server~=2.10->jupyterlab->visual-automata) (4.12.0)\n",
            "Requirement already satisfied: zipp>=0.5 in /usr/local/lib/python3.7/dist-packages (from importlib-metadata>=3.6->jupyterlab-server~=2.10->jupyterlab->visual-automata) (3.8.1)\n",
            "Requirement already satisfied: importlib-resources>=1.4.0 in /usr/local/lib/python3.7/dist-packages (from jsonschema>=3.0.1->jupyterlab-server~=2.10->jupyterlab->visual-automata) (5.9.0)\n",
            "Requirement already satisfied: attrs>=17.4.0 in /usr/local/lib/python3.7/dist-packages (from jsonschema>=3.0.1->jupyterlab-server~=2.10->jupyterlab->visual-automata) (22.1.0)\n",
            "Requirement already satisfied: pyrsistent!=0.17.0,!=0.17.1,!=0.17.2,>=0.14.0 in /usr/local/lib/python3.7/dist-packages (from jsonschema>=3.0.1->jupyterlab-server~=2.10->jupyterlab->visual-automata) (0.18.1)\n",
            "Requirement already satisfied: nbclient>=0.5.0 in /usr/local/lib/python3.7/dist-packages (from nbconvert>=6.4.4->jupyter-server~=1.16->jupyterlab->visual-automata) (0.6.8)\n",
            "Requirement already satisfied: pandocfilters>=1.4.1 in /usr/local/lib/python3.7/dist-packages (from nbconvert>=6.4.4->jupyter-server~=1.16->jupyterlab->visual-automata) (1.5.0)\n",
            "Requirement already satisfied: beautifulsoup4 in /usr/local/lib/python3.7/dist-packages (from nbconvert>=6.4.4->jupyter-server~=1.16->jupyterlab->visual-automata) (4.6.3)\n",
            "Requirement already satisfied: jupyterlab-pygments in /usr/local/lib/python3.7/dist-packages (from nbconvert>=6.4.4->jupyter-server~=1.16->jupyterlab->visual-automata) (0.2.2)\n",
            "Requirement already satisfied: bleach in /usr/local/lib/python3.7/dist-packages (from nbconvert>=6.4.4->jupyter-server~=1.16->jupyterlab->visual-automata) (5.0.1)\n",
            "Requirement already satisfied: tinycss2 in /usr/local/lib/python3.7/dist-packages (from nbconvert>=6.4.4->jupyter-server~=1.16->jupyterlab->visual-automata) (1.1.1)\n",
            "Requirement already satisfied: mistune<3,>=2.0.3 in /usr/local/lib/python3.7/dist-packages (from nbconvert>=6.4.4->jupyter-server~=1.16->jupyterlab->visual-automata) (2.0.4)\n",
            "Requirement already satisfied: pygments>=2.4.1 in /usr/local/lib/python3.7/dist-packages (from nbconvert>=6.4.4->jupyter-server~=1.16->jupyterlab->visual-automata) (2.6.1)\n",
            "Requirement already satisfied: defusedxml in /usr/local/lib/python3.7/dist-packages (from nbconvert>=6.4.4->jupyter-server~=1.16->jupyterlab->visual-automata) (0.7.1)\n",
            "Requirement already satisfied: nest-asyncio in /usr/local/lib/python3.7/dist-packages (from nbclient>=0.5.0->nbconvert>=6.4.4->jupyter-server~=1.16->jupyterlab->visual-automata) (1.5.6)\n",
            "Requirement already satisfied: fastjsonschema in /usr/local/lib/python3.7/dist-packages (from nbformat>=5.2.0->jupyter-server~=1.16->jupyterlab->visual-automata) (2.16.1)\n",
            "Requirement already satisfied: ipykernel in /usr/local/lib/python3.7/dist-packages (from notebook<7->jupyterlab->visual-automata) (5.3.4)\n",
            "Requirement already satisfied: ipython-genutils in /usr/local/lib/python3.7/dist-packages (from notebook<7->jupyterlab->visual-automata) (0.2.0)\n",
            "Requirement already satisfied: six>=1.5 in /usr/local/lib/python3.7/dist-packages (from python-dateutil>=2.1->jupyter-client>=6.1.12->jupyter-server~=1.16->jupyterlab->visual-automata) (1.15.0)\n",
            "Requirement already satisfied: ptyprocess in /usr/local/lib/python3.7/dist-packages (from terminado>=0.8.3->jupyter-server~=1.16->jupyterlab->visual-automata) (0.7.0)\n",
            "Requirement already satisfied: argon2-cffi-bindings in /usr/local/lib/python3.7/dist-packages (from argon2-cffi->jupyter-server~=1.16->jupyterlab->visual-automata) (21.2.0)\n",
            "Requirement already satisfied: cffi>=1.0.1 in /usr/local/lib/python3.7/dist-packages (from argon2-cffi-bindings->argon2-cffi->jupyter-server~=1.16->jupyterlab->visual-automata) (1.15.1)\n",
            "Requirement already satisfied: pycparser in /usr/local/lib/python3.7/dist-packages (from cffi>=1.0.1->argon2-cffi-bindings->argon2-cffi->jupyter-server~=1.16->jupyterlab->visual-automata) (2.21)\n",
            "Requirement already satisfied: pytz>=2015.7 in /usr/local/lib/python3.7/dist-packages (from babel->jupyterlab-server~=2.10->jupyterlab->visual-automata) (2022.2.1)\n",
            "Requirement already satisfied: webencodings in /usr/local/lib/python3.7/dist-packages (from bleach->nbconvert>=6.4.4->jupyter-server~=1.16->jupyterlab->visual-automata) (0.5.1)\n",
            "Requirement already satisfied: backcall in /usr/local/lib/python3.7/dist-packages (from ipython->jupyterlab->visual-automata) (0.2.0)\n",
            "Requirement already satisfied: setuptools>=18.5 in /usr/local/lib/python3.7/dist-packages (from ipython->jupyterlab->visual-automata) (57.4.0)\n",
            "Requirement already satisfied: pickleshare in /usr/local/lib/python3.7/dist-packages (from ipython->jupyterlab->visual-automata) (0.7.5)\n",
            "Requirement already satisfied: decorator in /usr/local/lib/python3.7/dist-packages (from ipython->jupyterlab->visual-automata) (4.4.2)\n",
            "Requirement already satisfied: prompt-toolkit<2.1.0,>=2.0.0 in /usr/local/lib/python3.7/dist-packages (from ipython->jupyterlab->visual-automata) (2.0.10)\n",
            "Requirement already satisfied: pexpect in /usr/local/lib/python3.7/dist-packages (from ipython->jupyterlab->visual-automata) (4.8.0)\n",
            "Requirement already satisfied: jedi>=0.10 in /usr/local/lib/python3.7/dist-packages (from ipython->jupyterlab->visual-automata) (0.18.1)\n",
            "Requirement already satisfied: parso<0.9.0,>=0.8.0 in /usr/local/lib/python3.7/dist-packages (from jedi>=0.10->ipython->jupyterlab->visual-automata) (0.8.3)\n",
            "Requirement already satisfied: wcwidth in /usr/local/lib/python3.7/dist-packages (from prompt-toolkit<2.1.0,>=2.0.0->ipython->jupyterlab->visual-automata) (0.2.5)\n",
            "Requirement already satisfied: notebook-shim>=0.1.0 in /usr/local/lib/python3.7/dist-packages (from nbclassic->jupyterlab->visual-automata) (0.1.0)\n",
            "Requirement already satisfied: urllib3!=1.25.0,!=1.25.1,<1.26,>=1.21.1 in /usr/local/lib/python3.7/dist-packages (from requests->jupyterlab-server~=2.10->jupyterlab->visual-automata) (1.24.3)\n",
            "Requirement already satisfied: chardet<4,>=3.0.2 in /usr/local/lib/python3.7/dist-packages (from requests->jupyterlab-server~=2.10->jupyterlab->visual-automata) (3.0.4)\n",
            "Requirement already satisfied: certifi>=2017.4.17 in /usr/local/lib/python3.7/dist-packages (from requests->jupyterlab-server~=2.10->jupyterlab->visual-automata) (2022.6.15)\n"
          ]
        }
      ]
    },
    {
      "cell_type": "markdown",
      "source": [
        "\n",
        "\n",
        "---\n",
        "\n"
      ],
      "metadata": {
        "id": "iH4OqPh4zem5"
      }
    },
    {
      "cell_type": "markdown",
      "source": [
        "**Importing**"
      ],
      "metadata": {
        "id": "N0GtgptdysTY"
      }
    },
    {
      "cell_type": "markdown",
      "source": [
        "Import modul yang dibutuhkan:\n",
        "1.  DFA\n",
        "2.  VisualDFA"
      ],
      "metadata": {
        "id": "Aqng6Vvetqgo"
      }
    },
    {
      "cell_type": "code",
      "source": [
        "from automata.fa.dfa import DFA\n",
        "\n",
        "from visual_automata.fa.dfa import VisualDFA"
      ],
      "metadata": {
        "id": "vzF1iqVZUdLt"
      },
      "execution_count": null,
      "outputs": []
    },
    {
      "cell_type": "markdown",
      "source": [
        "\n",
        "\n",
        "---\n",
        "\n"
      ],
      "metadata": {
        "id": "TD7mvkLizR4H"
      }
    },
    {
      "cell_type": "markdown",
      "source": [
        "**Membuat Instansi DFA**"
      ],
      "metadata": {
        "id": "Wefnfs5ezFEW"
      }
    },
    {
      "cell_type": "markdown",
      "source": [
        "Tentukan DFA visual_automata yang dapat menerima string apa pun yang diakhiri dengan 00 atau 11."
      ],
      "metadata": {
        "id": "4MsAPV_UzL5y"
      }
    },
    {
      "cell_type": "code",
      "source": [
        "dfa = VisualDFA(\n",
        "    states={\"q0\", \"q1\", \"q2\", \"q3\"},\n",
        "    input_symbols={\"0\", \"1\"},\n",
        "    transitions={\n",
        "        \"q0\": {\"0\": \"q1\", \"1\": \"q3\"},\n",
        "        \"q1\": {\"0\": \"q2\", \"1\": \"q1\"},\n",
        "        \"q2\": {\"0\": \"q2\", \"1\": \"q1\"},\n",
        "        \"q3\": {\"0\": \"q3\", \"1\": \"q3\"},\n",
        "    },\n",
        "    initial_state=\"q0\",\n",
        "    final_states={\"q2\"},\n",
        ")"
      ],
      "metadata": {
        "id": "s6zx3ytT18S8"
      },
      "execution_count": null,
      "outputs": []
    },
    {
      "cell_type": "markdown",
      "source": [
        "\n",
        "\n",
        "---\n",
        "\n"
      ],
      "metadata": {
        "id": "_1023vr_z8rT"
      }
    },
    {
      "cell_type": "markdown",
      "source": [
        "**Converting**"
      ],
      "metadata": {
        "id": "H4oo2hRjztBJ"
      }
    },
    {
      "cell_type": "markdown",
      "source": [
        "DFA automata-lib dapat dikonversi ke VisualDFA. \n",
        "\n",
        "Tentukan DFA automata-lib yang dapat menerima string apa pun yang diakhiri dengan 00 atau 11."
      ],
      "metadata": {
        "id": "v3FYlf7DzuOZ"
      }
    },
    {
      "cell_type": "code",
      "source": [
        "dfa = DFA(\n",
        "    states={\"q0\", \"q1\", \"q2\", \"q3\"},\n",
        "    input_symbols={\"0\", \"1\"},\n",
        "    transitions={\n",
        "        \"q0\": {\"0\": \"q1\", \"1\": \"q3\"},\n",
        "        \"q1\": {\"0\": \"q2\", \"1\": \"q1\"},\n",
        "        \"q2\": {\"0\": \"q2\", \"1\": \"q1\"},\n",
        "        \"q3\": {\"0\": \"q3\", \"1\": \"q3\"},\n",
        "    },\n",
        "    initial_state=\"q0\",\n",
        "    final_states={\"q2\"},\n",
        ")"
      ],
      "metadata": {
        "id": "EoxZQ5ahELsH"
      },
      "execution_count": null,
      "outputs": []
    },
    {
      "cell_type": "markdown",
      "source": [
        "\n",
        "\n",
        "---\n",
        "\n"
      ],
      "metadata": {
        "id": "hv7oGUxlz-LM"
      }
    },
    {
      "cell_type": "markdown",
      "source": [
        "Konversikan DFA automata-lib ke VisualDFA."
      ],
      "metadata": {
        "id": "j36RBZrNz7jS"
      }
    },
    {
      "cell_type": "code",
      "source": [
        "dfa = VisualDFA(dfa)"
      ],
      "metadata": {
        "id": "QFP9UP9sVNkB"
      },
      "execution_count": null,
      "outputs": []
    },
    {
      "cell_type": "markdown",
      "source": [
        "\n",
        "\n",
        "---\n",
        "\n"
      ],
      "metadata": {
        "id": "2W5TZRUr0B3T"
      }
    },
    {
      "cell_type": "markdown",
      "source": [
        "**Transition Table**"
      ],
      "metadata": {
        "id": "wCDISjRO0LBL"
      }
    },
    {
      "cell_type": "markdown",
      "source": [
        "Menampilkan tabel transisi untuk DFA yang diberikan."
      ],
      "metadata": {
        "id": "iBvYNPBv0MXi"
      }
    },
    {
      "cell_type": "code",
      "source": [
        "dfa.table"
      ],
      "metadata": {
        "id": "WnWMqK8DVQiE",
        "colab": {
          "base_uri": "https://localhost:8080/",
          "height": 175
        },
        "outputId": "9eb8e0f0-3af5-483f-b8ee-aa6b0b898349"
      },
      "execution_count": null,
      "outputs": [
        {
          "output_type": "execute_result",
          "data": {
            "text/plain": [
              "       0   1\n",
              "→q0   q1  q3\n",
              "q1   *q2  q1\n",
              "*q2  *q2  q1\n",
              "q3    q3  q3"
            ],
            "text/html": [
              "\n",
              "  <div id=\"df-c25c642a-89fa-412f-bacf-0191d6c47d06\">\n",
              "    <div class=\"colab-df-container\">\n",
              "      <div>\n",
              "<style scoped>\n",
              "    .dataframe tbody tr th:only-of-type {\n",
              "        vertical-align: middle;\n",
              "    }\n",
              "\n",
              "    .dataframe tbody tr th {\n",
              "        vertical-align: top;\n",
              "    }\n",
              "\n",
              "    .dataframe thead th {\n",
              "        text-align: right;\n",
              "    }\n",
              "</style>\n",
              "<table border=\"1\" class=\"dataframe\">\n",
              "  <thead>\n",
              "    <tr style=\"text-align: right;\">\n",
              "      <th></th>\n",
              "      <th>0</th>\n",
              "      <th>1</th>\n",
              "    </tr>\n",
              "  </thead>\n",
              "  <tbody>\n",
              "    <tr>\n",
              "      <th>→q0</th>\n",
              "      <td>q1</td>\n",
              "      <td>q3</td>\n",
              "    </tr>\n",
              "    <tr>\n",
              "      <th>q1</th>\n",
              "      <td>*q2</td>\n",
              "      <td>q1</td>\n",
              "    </tr>\n",
              "    <tr>\n",
              "      <th>*q2</th>\n",
              "      <td>*q2</td>\n",
              "      <td>q1</td>\n",
              "    </tr>\n",
              "    <tr>\n",
              "      <th>q3</th>\n",
              "      <td>q3</td>\n",
              "      <td>q3</td>\n",
              "    </tr>\n",
              "  </tbody>\n",
              "</table>\n",
              "</div>\n",
              "      <button class=\"colab-df-convert\" onclick=\"convertToInteractive('df-c25c642a-89fa-412f-bacf-0191d6c47d06')\"\n",
              "              title=\"Convert this dataframe to an interactive table.\"\n",
              "              style=\"display:none;\">\n",
              "        \n",
              "  <svg xmlns=\"http://www.w3.org/2000/svg\" height=\"24px\"viewBox=\"0 0 24 24\"\n",
              "       width=\"24px\">\n",
              "    <path d=\"M0 0h24v24H0V0z\" fill=\"none\"/>\n",
              "    <path d=\"M18.56 5.44l.94 2.06.94-2.06 2.06-.94-2.06-.94-.94-2.06-.94 2.06-2.06.94zm-11 1L8.5 8.5l.94-2.06 2.06-.94-2.06-.94L8.5 2.5l-.94 2.06-2.06.94zm10 10l.94 2.06.94-2.06 2.06-.94-2.06-.94-.94-2.06-.94 2.06-2.06.94z\"/><path d=\"M17.41 7.96l-1.37-1.37c-.4-.4-.92-.59-1.43-.59-.52 0-1.04.2-1.43.59L10.3 9.45l-7.72 7.72c-.78.78-.78 2.05 0 2.83L4 21.41c.39.39.9.59 1.41.59.51 0 1.02-.2 1.41-.59l7.78-7.78 2.81-2.81c.8-.78.8-2.07 0-2.86zM5.41 20L4 18.59l7.72-7.72 1.47 1.35L5.41 20z\"/>\n",
              "  </svg>\n",
              "      </button>\n",
              "      \n",
              "  <style>\n",
              "    .colab-df-container {\n",
              "      display:flex;\n",
              "      flex-wrap:wrap;\n",
              "      gap: 12px;\n",
              "    }\n",
              "\n",
              "    .colab-df-convert {\n",
              "      background-color: #E8F0FE;\n",
              "      border: none;\n",
              "      border-radius: 50%;\n",
              "      cursor: pointer;\n",
              "      display: none;\n",
              "      fill: #1967D2;\n",
              "      height: 32px;\n",
              "      padding: 0 0 0 0;\n",
              "      width: 32px;\n",
              "    }\n",
              "\n",
              "    .colab-df-convert:hover {\n",
              "      background-color: #E2EBFA;\n",
              "      box-shadow: 0px 1px 2px rgba(60, 64, 67, 0.3), 0px 1px 3px 1px rgba(60, 64, 67, 0.15);\n",
              "      fill: #174EA6;\n",
              "    }\n",
              "\n",
              "    [theme=dark] .colab-df-convert {\n",
              "      background-color: #3B4455;\n",
              "      fill: #D2E3FC;\n",
              "    }\n",
              "\n",
              "    [theme=dark] .colab-df-convert:hover {\n",
              "      background-color: #434B5C;\n",
              "      box-shadow: 0px 1px 3px 1px rgba(0, 0, 0, 0.15);\n",
              "      filter: drop-shadow(0px 1px 2px rgba(0, 0, 0, 0.3));\n",
              "      fill: #FFFFFF;\n",
              "    }\n",
              "  </style>\n",
              "\n",
              "      <script>\n",
              "        const buttonEl =\n",
              "          document.querySelector('#df-c25c642a-89fa-412f-bacf-0191d6c47d06 button.colab-df-convert');\n",
              "        buttonEl.style.display =\n",
              "          google.colab.kernel.accessAllowed ? 'block' : 'none';\n",
              "\n",
              "        async function convertToInteractive(key) {\n",
              "          const element = document.querySelector('#df-c25c642a-89fa-412f-bacf-0191d6c47d06');\n",
              "          const dataTable =\n",
              "            await google.colab.kernel.invokeFunction('convertToInteractive',\n",
              "                                                     [key], {});\n",
              "          if (!dataTable) return;\n",
              "\n",
              "          const docLinkHtml = 'Like what you see? Visit the ' +\n",
              "            '<a target=\"_blank\" href=https://colab.research.google.com/notebooks/data_table.ipynb>data table notebook</a>'\n",
              "            + ' to learn more about interactive tables.';\n",
              "          element.innerHTML = '';\n",
              "          dataTable['output_type'] = 'display_data';\n",
              "          await google.colab.output.renderOutput(dataTable, element);\n",
              "          const docLink = document.createElement('div');\n",
              "          docLink.innerHTML = docLinkHtml;\n",
              "          element.appendChild(docLink);\n",
              "        }\n",
              "      </script>\n",
              "    </div>\n",
              "  </div>\n",
              "  "
            ]
          },
          "metadata": {},
          "execution_count": 47
        }
      ]
    },
    {
      "cell_type": "code",
      "source": [
        "dfa.show_diagram()"
      ],
      "metadata": {
        "id": "SjwrBTqEVTgj",
        "colab": {
          "base_uri": "https://localhost:8080/",
          "height": 306
        },
        "outputId": "d7403cf4-6170-4504-ab96-7ce08c216b54"
      },
      "execution_count": null,
      "outputs": [
        {
          "output_type": "execute_result",
          "data": {
            "text/plain": [
              "<graphviz.dot.Digraph at 0x7f86c4c83950>"
            ],
            "image/svg+xml": "<?xml version=\"1.0\" encoding=\"UTF-8\" standalone=\"no\"?>\n<!DOCTYPE svg PUBLIC \"-//W3C//DTD SVG 1.1//EN\"\n \"http://www.w3.org/Graphics/SVG/1.1/DTD/svg11.dtd\">\n<!-- Generated by graphviz version 2.40.1 (20161225.0304)\n -->\n<!-- Title: %3 Pages: 1 -->\n<svg width=\"285pt\" height=\"213pt\"\n viewBox=\"0.00 0.00 285.39 212.60\" xmlns=\"http://www.w3.org/2000/svg\" xmlns:xlink=\"http://www.w3.org/1999/xlink\">\n<g id=\"graph0\" class=\"graph\" transform=\"scale(1 1) rotate(0) translate(4 208.5963)\">\n<title>%3</title>\n<polygon fill=\"#ffffff\" stroke=\"transparent\" points=\"-4,4 -4,-208.5963 281.3889,-208.5963 281.3889,4 -4,4\"/>\n<!-- Initial -->\n<g id=\"node1\" class=\"node\">\n<title>Initial</title>\n<ellipse fill=\"#000000\" stroke=\"#000000\" cx=\"1.8\" cy=\"-83.7982\" rx=\"1.8\" ry=\"1.8\"/>\n</g>\n<!-- q0 -->\n<g id=\"node2\" class=\"node\">\n<title>q0</title>\n<ellipse fill=\"none\" stroke=\"#000000\" cx=\"61.3982\" cy=\"-83.7982\" rx=\"20.5982\" ry=\"20.5982\"/>\n<text text-anchor=\"middle\" x=\"61.3982\" y=\"-80.0982\" font-family=\"Times,serif\" font-size=\"14.00\" fill=\"#000000\">q0</text>\n</g>\n<!-- Initial&#45;&gt;q0 -->\n<g id=\"edge1\" class=\"edge\">\n<title>Initial&#45;&gt;q0</title>\n<path fill=\"none\" stroke=\"#000000\" d=\"M3.7829,-83.7982C8.3217,-83.7982 19.9751,-83.7982 31.6235,-83.7982\"/>\n<polygon fill=\"#000000\" stroke=\"#000000\" points=\"31.9123,-86.7733 40.4123,-83.7982 31.9122,-80.8233 31.9123,-86.7733\"/>\n</g>\n<!-- q1 -->\n<g id=\"node3\" class=\"node\">\n<title>q1</title>\n<ellipse fill=\"none\" stroke=\"#000000\" cx=\"154.9945\" cy=\"-146.7982\" rx=\"20.5982\" ry=\"20.5982\"/>\n<text text-anchor=\"middle\" x=\"154.9945\" y=\"-143.0982\" font-family=\"Times,serif\" font-size=\"14.00\" fill=\"#000000\">q1</text>\n</g>\n<!-- q0&#45;&gt;q1 -->\n<g id=\"edge2\" class=\"edge\">\n<title>q0&#45;&gt;q1</title>\n<path fill=\"none\" stroke=\"#000000\" d=\"M79.0029,-95.648C93.514,-105.4155 114.2603,-119.3798 130.4106,-130.2507\"/>\n<polygon fill=\"#000000\" stroke=\"#000000\" points=\"128.756,-132.7231 137.4687,-135.0015 132.0785,-127.7871 128.756,-132.7231\"/>\n<text text-anchor=\"middle\" x=\"108.1963\" y=\"-122.5982\" font-family=\"Times,serif\" font-size=\"14.00\" fill=\"#000000\"> 0 </text>\n</g>\n<!-- q3 -->\n<g id=\"node5\" class=\"node\">\n<title>q3</title>\n<ellipse fill=\"none\" stroke=\"#000000\" cx=\"154.9945\" cy=\"-20.7982\" rx=\"20.5982\" ry=\"20.5982\"/>\n<text text-anchor=\"middle\" x=\"154.9945\" y=\"-17.0982\" font-family=\"Times,serif\" font-size=\"14.00\" fill=\"#000000\">q3</text>\n</g>\n<!-- q0&#45;&gt;q3 -->\n<g id=\"edge3\" class=\"edge\">\n<title>q0&#45;&gt;q3</title>\n<path fill=\"none\" stroke=\"#000000\" d=\"M79.0029,-71.9483C93.514,-62.1809 114.2603,-48.2165 130.4106,-37.3457\"/>\n<polygon fill=\"#000000\" stroke=\"#000000\" points=\"132.0785,-39.8092 137.4687,-32.5948 128.756,-34.8732 132.0785,-39.8092\"/>\n<text text-anchor=\"middle\" x=\"108.1963\" y=\"-60.5982\" font-family=\"Times,serif\" font-size=\"14.00\" fill=\"#000000\"> 1 </text>\n</g>\n<!-- q1&#45;&gt;q1 -->\n<g id=\"edge5\" class=\"edge\">\n<title>q1&#45;&gt;q1</title>\n<path fill=\"none\" stroke=\"#000000\" d=\"M146.7253,-165.962C145.3201,-176.2362 148.0765,-185.5963 154.9945,-185.5963 159.8587,-185.5963 162.6654,-180.9688 163.4148,-174.6498\"/>\n<polygon fill=\"#000000\" stroke=\"#000000\" points=\"166.3861,-174.4089 163.2636,-165.962 160.437,-174.5125 166.3861,-174.4089\"/>\n<text text-anchor=\"middle\" x=\"154.9945\" y=\"-189.3963\" font-family=\"Times,serif\" font-size=\"14.00\" fill=\"#000000\"> 1 </text>\n</g>\n<!-- q2 -->\n<g id=\"node4\" class=\"node\">\n<title>q2</title>\n<ellipse fill=\"none\" stroke=\"#000000\" cx=\"252.5908\" cy=\"-146.7982\" rx=\"20.6302\" ry=\"20.6302\"/>\n<ellipse fill=\"none\" stroke=\"#000000\" cx=\"252.5908\" cy=\"-146.7982\" rx=\"24.5979\" ry=\"24.5979\"/>\n<text text-anchor=\"middle\" x=\"252.5908\" y=\"-143.0982\" font-family=\"Times,serif\" font-size=\"14.00\" fill=\"#000000\">q2</text>\n</g>\n<!-- q1&#45;&gt;q2 -->\n<g id=\"edge4\" class=\"edge\">\n<title>q1&#45;&gt;q2</title>\n<path fill=\"none\" stroke=\"#000000\" d=\"M176.1714,-146.7982C188.7066,-146.7982 204.8675,-146.7982 219.0968,-146.7982\"/>\n<polygon fill=\"#000000\" stroke=\"#000000\" points=\"219.1573,-149.7733 227.6572,-146.7982 219.1572,-143.8233 219.1573,-149.7733\"/>\n<text text-anchor=\"middle\" x=\"201.7926\" y=\"-150.5982\" font-family=\"Times,serif\" font-size=\"14.00\" fill=\"#000000\"> 0 </text>\n</g>\n<!-- q2&#45;&gt;q1 -->\n<g id=\"edge7\" class=\"edge\">\n<title>q2&#45;&gt;q1</title>\n<path fill=\"none\" stroke=\"#000000\" d=\"M231.0574,-133.9483C220.037,-128.8855 206.3336,-124.8923 193.7926,-127.7982 189.4292,-128.8092 184.9903,-130.3825 180.7485,-132.2007\"/>\n<polygon fill=\"#000000\" stroke=\"#000000\" points=\"179.3142,-129.5881 172.906,-135.9155 181.8614,-134.9653 179.3142,-129.5881\"/>\n<text text-anchor=\"middle\" x=\"201.7926\" y=\"-131.5982\" font-family=\"Times,serif\" font-size=\"14.00\" fill=\"#000000\"> 1 </text>\n</g>\n<!-- q2&#45;&gt;q2 -->\n<g id=\"edge6\" class=\"edge\">\n<title>q2&#45;&gt;q2</title>\n<path fill=\"none\" stroke=\"#000000\" d=\"M243.3623,-170.1303C242.4834,-180.5686 245.5595,-189.5963 252.5908,-189.5963 257.5346,-189.5963 260.5231,-185.1331 261.5563,-178.8546\"/>\n<polygon fill=\"#000000\" stroke=\"#000000\" points=\"264.5368,-178.7161 261.8193,-170.1303 258.5895,-178.5367 264.5368,-178.7161\"/>\n<text text-anchor=\"middle\" x=\"252.5908\" y=\"-193.3963\" font-family=\"Times,serif\" font-size=\"14.00\" fill=\"#000000\"> 0 </text>\n</g>\n<!-- q3&#45;&gt;q3 -->\n<g id=\"edge8\" class=\"edge\">\n<title>q3&#45;&gt;q3</title>\n<path fill=\"none\" stroke=\"#000000\" d=\"M150.7672,-41.5546C150.3061,-51.1834 151.7152,-59.5963 154.9945,-59.5963 157.1977,-59.5963 158.5568,-55.7986 159.0715,-50.386\"/>\n<polygon fill=\"#000000\" stroke=\"#000000\" points=\"162.0517,-50.104 159.2217,-41.5546 156.1025,-50.0028 162.0517,-50.104\"/>\n<text text-anchor=\"middle\" x=\"154.9945\" y=\"-63.3963\" font-family=\"Times,serif\" font-size=\"14.00\" fill=\"#000000\"> 0 </text>\n</g>\n<!-- q3&#45;&gt;q3 -->\n<g id=\"edge9\" class=\"edge\">\n<title>q3&#45;&gt;q3</title>\n<path fill=\"none\" stroke=\"#000000\" d=\"M147.9045,-40.5904C144.4554,-58.4579 146.8187,-77.5963 154.9945,-77.5963 161.8289,-77.5963 164.6016,-64.2226 163.3127,-49.3971\"/>\n<polygon fill=\"#000000\" stroke=\"#000000\" points=\"166.2051,-48.5979 162.0844,-40.5904 160.3121,-49.4199 166.2051,-48.5979\"/>\n<text text-anchor=\"middle\" x=\"154.9945\" y=\"-81.3963\" font-family=\"Times,serif\" font-size=\"14.00\" fill=\"#000000\"> 1 </text>\n</g>\n</g>\n</svg>\n"
          },
          "metadata": {},
          "execution_count": 48
        }
      ]
    },
    {
      "cell_type": "markdown",
      "source": [
        "\n",
        "\n",
        "---\n",
        "\n"
      ],
      "metadata": {
        "id": "B24XwlPG10d5"
      }
    },
    {
      "cell_type": "markdown",
      "source": [
        "**Cek inputan strings**"
      ],
      "metadata": {
        "id": "UMEu6vLr1EqU"
      }
    },
    {
      "cell_type": "markdown",
      "source": [
        "1001 tidak diawali dengan 0 dan diakhiri 0"
      ],
      "metadata": {
        "id": "qRjfZS2a1TwT"
      }
    },
    {
      "cell_type": "code",
      "source": [
        "dfa.input_check(\"1001\")"
      ],
      "metadata": {
        "id": "TiehY5qdVYPx",
        "colab": {
          "base_uri": "https://localhost:8080/",
          "height": 206
        },
        "outputId": "abafdebe-be64-483c-9496-2e8f54fb0c4f"
      },
      "execution_count": null,
      "outputs": [
        {
          "output_type": "execute_result",
          "data": {
            "text/plain": [
              "          [Rejected]                         \n",
              "Step: Current state: Input symbol: New state:\n",
              "1                →q0             1         q3\n",
              "2                 q3             0         q3\n",
              "3                 q3             0         q3\n",
              "4                 q3             1         q3"
            ],
            "text/html": [
              "\n",
              "  <div id=\"df-283367d5-ef99-4a33-b11b-3f83b9b0aa75\">\n",
              "    <div class=\"colab-df-container\">\n",
              "      <div>\n",
              "<style scoped>\n",
              "    .dataframe tbody tr th:only-of-type {\n",
              "        vertical-align: middle;\n",
              "    }\n",
              "\n",
              "    .dataframe tbody tr th {\n",
              "        vertical-align: top;\n",
              "    }\n",
              "\n",
              "    .dataframe thead tr th {\n",
              "        text-align: left;\n",
              "    }\n",
              "</style>\n",
              "<table border=\"1\" class=\"dataframe\">\n",
              "  <thead>\n",
              "    <tr>\n",
              "      <th></th>\n",
              "      <th colspan=\"3\" halign=\"left\">[Rejected]</th>\n",
              "    </tr>\n",
              "    <tr>\n",
              "      <th>Step:</th>\n",
              "      <th>Current state:</th>\n",
              "      <th>Input symbol:</th>\n",
              "      <th>New state:</th>\n",
              "    </tr>\n",
              "  </thead>\n",
              "  <tbody>\n",
              "    <tr>\n",
              "      <th>1</th>\n",
              "      <td>→q0</td>\n",
              "      <td>1</td>\n",
              "      <td>q3</td>\n",
              "    </tr>\n",
              "    <tr>\n",
              "      <th>2</th>\n",
              "      <td>q3</td>\n",
              "      <td>0</td>\n",
              "      <td>q3</td>\n",
              "    </tr>\n",
              "    <tr>\n",
              "      <th>3</th>\n",
              "      <td>q3</td>\n",
              "      <td>0</td>\n",
              "      <td>q3</td>\n",
              "    </tr>\n",
              "    <tr>\n",
              "      <th>4</th>\n",
              "      <td>q3</td>\n",
              "      <td>1</td>\n",
              "      <td>q3</td>\n",
              "    </tr>\n",
              "  </tbody>\n",
              "</table>\n",
              "</div>\n",
              "      <button class=\"colab-df-convert\" onclick=\"convertToInteractive('df-283367d5-ef99-4a33-b11b-3f83b9b0aa75')\"\n",
              "              title=\"Convert this dataframe to an interactive table.\"\n",
              "              style=\"display:none;\">\n",
              "        \n",
              "  <svg xmlns=\"http://www.w3.org/2000/svg\" height=\"24px\"viewBox=\"0 0 24 24\"\n",
              "       width=\"24px\">\n",
              "    <path d=\"M0 0h24v24H0V0z\" fill=\"none\"/>\n",
              "    <path d=\"M18.56 5.44l.94 2.06.94-2.06 2.06-.94-2.06-.94-.94-2.06-.94 2.06-2.06.94zm-11 1L8.5 8.5l.94-2.06 2.06-.94-2.06-.94L8.5 2.5l-.94 2.06-2.06.94zm10 10l.94 2.06.94-2.06 2.06-.94-2.06-.94-.94-2.06-.94 2.06-2.06.94z\"/><path d=\"M17.41 7.96l-1.37-1.37c-.4-.4-.92-.59-1.43-.59-.52 0-1.04.2-1.43.59L10.3 9.45l-7.72 7.72c-.78.78-.78 2.05 0 2.83L4 21.41c.39.39.9.59 1.41.59.51 0 1.02-.2 1.41-.59l7.78-7.78 2.81-2.81c.8-.78.8-2.07 0-2.86zM5.41 20L4 18.59l7.72-7.72 1.47 1.35L5.41 20z\"/>\n",
              "  </svg>\n",
              "      </button>\n",
              "      \n",
              "  <style>\n",
              "    .colab-df-container {\n",
              "      display:flex;\n",
              "      flex-wrap:wrap;\n",
              "      gap: 12px;\n",
              "    }\n",
              "\n",
              "    .colab-df-convert {\n",
              "      background-color: #E8F0FE;\n",
              "      border: none;\n",
              "      border-radius: 50%;\n",
              "      cursor: pointer;\n",
              "      display: none;\n",
              "      fill: #1967D2;\n",
              "      height: 32px;\n",
              "      padding: 0 0 0 0;\n",
              "      width: 32px;\n",
              "    }\n",
              "\n",
              "    .colab-df-convert:hover {\n",
              "      background-color: #E2EBFA;\n",
              "      box-shadow: 0px 1px 2px rgba(60, 64, 67, 0.3), 0px 1px 3px 1px rgba(60, 64, 67, 0.15);\n",
              "      fill: #174EA6;\n",
              "    }\n",
              "\n",
              "    [theme=dark] .colab-df-convert {\n",
              "      background-color: #3B4455;\n",
              "      fill: #D2E3FC;\n",
              "    }\n",
              "\n",
              "    [theme=dark] .colab-df-convert:hover {\n",
              "      background-color: #434B5C;\n",
              "      box-shadow: 0px 1px 3px 1px rgba(0, 0, 0, 0.15);\n",
              "      filter: drop-shadow(0px 1px 2px rgba(0, 0, 0, 0.3));\n",
              "      fill: #FFFFFF;\n",
              "    }\n",
              "  </style>\n",
              "\n",
              "      <script>\n",
              "        const buttonEl =\n",
              "          document.querySelector('#df-283367d5-ef99-4a33-b11b-3f83b9b0aa75 button.colab-df-convert');\n",
              "        buttonEl.style.display =\n",
              "          google.colab.kernel.accessAllowed ? 'block' : 'none';\n",
              "\n",
              "        async function convertToInteractive(key) {\n",
              "          const element = document.querySelector('#df-283367d5-ef99-4a33-b11b-3f83b9b0aa75');\n",
              "          const dataTable =\n",
              "            await google.colab.kernel.invokeFunction('convertToInteractive',\n",
              "                                                     [key], {});\n",
              "          if (!dataTable) return;\n",
              "\n",
              "          const docLinkHtml = 'Like what you see? Visit the ' +\n",
              "            '<a target=\"_blank\" href=https://colab.research.google.com/notebooks/data_table.ipynb>data table notebook</a>'\n",
              "            + ' to learn more about interactive tables.';\n",
              "          element.innerHTML = '';\n",
              "          dataTable['output_type'] = 'display_data';\n",
              "          await google.colab.output.renderOutput(dataTable, element);\n",
              "          const docLink = document.createElement('div');\n",
              "          docLink.innerHTML = docLinkHtml;\n",
              "          element.appendChild(docLink);\n",
              "        }\n",
              "      </script>\n",
              "    </div>\n",
              "  </div>\n",
              "  "
            ]
          },
          "metadata": {},
          "execution_count": 49
        }
      ]
    },
    {
      "cell_type": "markdown",
      "source": [
        "00110 Diterima karena diawali dan diakhiri 0"
      ],
      "metadata": {
        "id": "keVP_y8Y1dPW"
      }
    },
    {
      "cell_type": "code",
      "source": [
        "dfa.input_check(\"00110\")"
      ],
      "metadata": {
        "id": "ULInchsJVbPh",
        "colab": {
          "base_uri": "https://localhost:8080/",
          "height": 237
        },
        "outputId": "e75ae1de-d84b-4de6-e97a-b8c7bab3c06a"
      },
      "execution_count": null,
      "outputs": [
        {
          "output_type": "execute_result",
          "data": {
            "text/plain": [
              "          [Accepted]                         \n",
              "Step: Current state: Input symbol: New state:\n",
              "1                →q0             0         q1\n",
              "2                 q1             0        *q2\n",
              "3                *q2             1         q1\n",
              "4                 q1             1         q1\n",
              "5                 q1             0        *q2"
            ],
            "text/html": [
              "\n",
              "  <div id=\"df-3c094b7b-f560-44b0-b1e5-c57718ccc4a5\">\n",
              "    <div class=\"colab-df-container\">\n",
              "      <div>\n",
              "<style scoped>\n",
              "    .dataframe tbody tr th:only-of-type {\n",
              "        vertical-align: middle;\n",
              "    }\n",
              "\n",
              "    .dataframe tbody tr th {\n",
              "        vertical-align: top;\n",
              "    }\n",
              "\n",
              "    .dataframe thead tr th {\n",
              "        text-align: left;\n",
              "    }\n",
              "</style>\n",
              "<table border=\"1\" class=\"dataframe\">\n",
              "  <thead>\n",
              "    <tr>\n",
              "      <th></th>\n",
              "      <th colspan=\"3\" halign=\"left\">[Accepted]</th>\n",
              "    </tr>\n",
              "    <tr>\n",
              "      <th>Step:</th>\n",
              "      <th>Current state:</th>\n",
              "      <th>Input symbol:</th>\n",
              "      <th>New state:</th>\n",
              "    </tr>\n",
              "  </thead>\n",
              "  <tbody>\n",
              "    <tr>\n",
              "      <th>1</th>\n",
              "      <td>→q0</td>\n",
              "      <td>0</td>\n",
              "      <td>q1</td>\n",
              "    </tr>\n",
              "    <tr>\n",
              "      <th>2</th>\n",
              "      <td>q1</td>\n",
              "      <td>0</td>\n",
              "      <td>*q2</td>\n",
              "    </tr>\n",
              "    <tr>\n",
              "      <th>3</th>\n",
              "      <td>*q2</td>\n",
              "      <td>1</td>\n",
              "      <td>q1</td>\n",
              "    </tr>\n",
              "    <tr>\n",
              "      <th>4</th>\n",
              "      <td>q1</td>\n",
              "      <td>1</td>\n",
              "      <td>q1</td>\n",
              "    </tr>\n",
              "    <tr>\n",
              "      <th>5</th>\n",
              "      <td>q1</td>\n",
              "      <td>0</td>\n",
              "      <td>*q2</td>\n",
              "    </tr>\n",
              "  </tbody>\n",
              "</table>\n",
              "</div>\n",
              "      <button class=\"colab-df-convert\" onclick=\"convertToInteractive('df-3c094b7b-f560-44b0-b1e5-c57718ccc4a5')\"\n",
              "              title=\"Convert this dataframe to an interactive table.\"\n",
              "              style=\"display:none;\">\n",
              "        \n",
              "  <svg xmlns=\"http://www.w3.org/2000/svg\" height=\"24px\"viewBox=\"0 0 24 24\"\n",
              "       width=\"24px\">\n",
              "    <path d=\"M0 0h24v24H0V0z\" fill=\"none\"/>\n",
              "    <path d=\"M18.56 5.44l.94 2.06.94-2.06 2.06-.94-2.06-.94-.94-2.06-.94 2.06-2.06.94zm-11 1L8.5 8.5l.94-2.06 2.06-.94-2.06-.94L8.5 2.5l-.94 2.06-2.06.94zm10 10l.94 2.06.94-2.06 2.06-.94-2.06-.94-.94-2.06-.94 2.06-2.06.94z\"/><path d=\"M17.41 7.96l-1.37-1.37c-.4-.4-.92-.59-1.43-.59-.52 0-1.04.2-1.43.59L10.3 9.45l-7.72 7.72c-.78.78-.78 2.05 0 2.83L4 21.41c.39.39.9.59 1.41.59.51 0 1.02-.2 1.41-.59l7.78-7.78 2.81-2.81c.8-.78.8-2.07 0-2.86zM5.41 20L4 18.59l7.72-7.72 1.47 1.35L5.41 20z\"/>\n",
              "  </svg>\n",
              "      </button>\n",
              "      \n",
              "  <style>\n",
              "    .colab-df-container {\n",
              "      display:flex;\n",
              "      flex-wrap:wrap;\n",
              "      gap: 12px;\n",
              "    }\n",
              "\n",
              "    .colab-df-convert {\n",
              "      background-color: #E8F0FE;\n",
              "      border: none;\n",
              "      border-radius: 50%;\n",
              "      cursor: pointer;\n",
              "      display: none;\n",
              "      fill: #1967D2;\n",
              "      height: 32px;\n",
              "      padding: 0 0 0 0;\n",
              "      width: 32px;\n",
              "    }\n",
              "\n",
              "    .colab-df-convert:hover {\n",
              "      background-color: #E2EBFA;\n",
              "      box-shadow: 0px 1px 2px rgba(60, 64, 67, 0.3), 0px 1px 3px 1px rgba(60, 64, 67, 0.15);\n",
              "      fill: #174EA6;\n",
              "    }\n",
              "\n",
              "    [theme=dark] .colab-df-convert {\n",
              "      background-color: #3B4455;\n",
              "      fill: #D2E3FC;\n",
              "    }\n",
              "\n",
              "    [theme=dark] .colab-df-convert:hover {\n",
              "      background-color: #434B5C;\n",
              "      box-shadow: 0px 1px 3px 1px rgba(0, 0, 0, 0.15);\n",
              "      filter: drop-shadow(0px 1px 2px rgba(0, 0, 0, 0.3));\n",
              "      fill: #FFFFFF;\n",
              "    }\n",
              "  </style>\n",
              "\n",
              "      <script>\n",
              "        const buttonEl =\n",
              "          document.querySelector('#df-3c094b7b-f560-44b0-b1e5-c57718ccc4a5 button.colab-df-convert');\n",
              "        buttonEl.style.display =\n",
              "          google.colab.kernel.accessAllowed ? 'block' : 'none';\n",
              "\n",
              "        async function convertToInteractive(key) {\n",
              "          const element = document.querySelector('#df-3c094b7b-f560-44b0-b1e5-c57718ccc4a5');\n",
              "          const dataTable =\n",
              "            await google.colab.kernel.invokeFunction('convertToInteractive',\n",
              "                                                     [key], {});\n",
              "          if (!dataTable) return;\n",
              "\n",
              "          const docLinkHtml = 'Like what you see? Visit the ' +\n",
              "            '<a target=\"_blank\" href=https://colab.research.google.com/notebooks/data_table.ipynb>data table notebook</a>'\n",
              "            + ' to learn more about interactive tables.';\n",
              "          element.innerHTML = '';\n",
              "          dataTable['output_type'] = 'display_data';\n",
              "          await google.colab.output.renderOutput(dataTable, element);\n",
              "          const docLink = document.createElement('div');\n",
              "          docLink.innerHTML = docLinkHtml;\n",
              "          element.appendChild(docLink);\n",
              "        }\n",
              "      </script>\n",
              "    </div>\n",
              "  </div>\n",
              "  "
            ]
          },
          "metadata": {},
          "execution_count": 50
        }
      ]
    },
    {
      "cell_type": "markdown",
      "source": [
        "000 diakhiri dan diawali 0, dan karena itu Diterima"
      ],
      "metadata": {
        "id": "AjSUPUGA8pK0"
      }
    },
    {
      "cell_type": "code",
      "source": [
        "dfa.input_check(\"000\")"
      ],
      "metadata": {
        "id": "T6-wPluFVeqh",
        "colab": {
          "base_uri": "https://localhost:8080/",
          "height": 175
        },
        "outputId": "8d446af8-4705-470a-a512-37683320fb6a"
      },
      "execution_count": null,
      "outputs": [
        {
          "output_type": "execute_result",
          "data": {
            "text/plain": [
              "          [Accepted]                         \n",
              "Step: Current state: Input symbol: New state:\n",
              "1                →q0             0         q1\n",
              "2                 q1             0        *q2\n",
              "3                *q2             0        *q2"
            ],
            "text/html": [
              "\n",
              "  <div id=\"df-253d7821-98d6-416d-a3b5-136ea95f84ab\">\n",
              "    <div class=\"colab-df-container\">\n",
              "      <div>\n",
              "<style scoped>\n",
              "    .dataframe tbody tr th:only-of-type {\n",
              "        vertical-align: middle;\n",
              "    }\n",
              "\n",
              "    .dataframe tbody tr th {\n",
              "        vertical-align: top;\n",
              "    }\n",
              "\n",
              "    .dataframe thead tr th {\n",
              "        text-align: left;\n",
              "    }\n",
              "</style>\n",
              "<table border=\"1\" class=\"dataframe\">\n",
              "  <thead>\n",
              "    <tr>\n",
              "      <th></th>\n",
              "      <th colspan=\"3\" halign=\"left\">[Accepted]</th>\n",
              "    </tr>\n",
              "    <tr>\n",
              "      <th>Step:</th>\n",
              "      <th>Current state:</th>\n",
              "      <th>Input symbol:</th>\n",
              "      <th>New state:</th>\n",
              "    </tr>\n",
              "  </thead>\n",
              "  <tbody>\n",
              "    <tr>\n",
              "      <th>1</th>\n",
              "      <td>→q0</td>\n",
              "      <td>0</td>\n",
              "      <td>q1</td>\n",
              "    </tr>\n",
              "    <tr>\n",
              "      <th>2</th>\n",
              "      <td>q1</td>\n",
              "      <td>0</td>\n",
              "      <td>*q2</td>\n",
              "    </tr>\n",
              "    <tr>\n",
              "      <th>3</th>\n",
              "      <td>*q2</td>\n",
              "      <td>0</td>\n",
              "      <td>*q2</td>\n",
              "    </tr>\n",
              "  </tbody>\n",
              "</table>\n",
              "</div>\n",
              "      <button class=\"colab-df-convert\" onclick=\"convertToInteractive('df-253d7821-98d6-416d-a3b5-136ea95f84ab')\"\n",
              "              title=\"Convert this dataframe to an interactive table.\"\n",
              "              style=\"display:none;\">\n",
              "        \n",
              "  <svg xmlns=\"http://www.w3.org/2000/svg\" height=\"24px\"viewBox=\"0 0 24 24\"\n",
              "       width=\"24px\">\n",
              "    <path d=\"M0 0h24v24H0V0z\" fill=\"none\"/>\n",
              "    <path d=\"M18.56 5.44l.94 2.06.94-2.06 2.06-.94-2.06-.94-.94-2.06-.94 2.06-2.06.94zm-11 1L8.5 8.5l.94-2.06 2.06-.94-2.06-.94L8.5 2.5l-.94 2.06-2.06.94zm10 10l.94 2.06.94-2.06 2.06-.94-2.06-.94-.94-2.06-.94 2.06-2.06.94z\"/><path d=\"M17.41 7.96l-1.37-1.37c-.4-.4-.92-.59-1.43-.59-.52 0-1.04.2-1.43.59L10.3 9.45l-7.72 7.72c-.78.78-.78 2.05 0 2.83L4 21.41c.39.39.9.59 1.41.59.51 0 1.02-.2 1.41-.59l7.78-7.78 2.81-2.81c.8-.78.8-2.07 0-2.86zM5.41 20L4 18.59l7.72-7.72 1.47 1.35L5.41 20z\"/>\n",
              "  </svg>\n",
              "      </button>\n",
              "      \n",
              "  <style>\n",
              "    .colab-df-container {\n",
              "      display:flex;\n",
              "      flex-wrap:wrap;\n",
              "      gap: 12px;\n",
              "    }\n",
              "\n",
              "    .colab-df-convert {\n",
              "      background-color: #E8F0FE;\n",
              "      border: none;\n",
              "      border-radius: 50%;\n",
              "      cursor: pointer;\n",
              "      display: none;\n",
              "      fill: #1967D2;\n",
              "      height: 32px;\n",
              "      padding: 0 0 0 0;\n",
              "      width: 32px;\n",
              "    }\n",
              "\n",
              "    .colab-df-convert:hover {\n",
              "      background-color: #E2EBFA;\n",
              "      box-shadow: 0px 1px 2px rgba(60, 64, 67, 0.3), 0px 1px 3px 1px rgba(60, 64, 67, 0.15);\n",
              "      fill: #174EA6;\n",
              "    }\n",
              "\n",
              "    [theme=dark] .colab-df-convert {\n",
              "      background-color: #3B4455;\n",
              "      fill: #D2E3FC;\n",
              "    }\n",
              "\n",
              "    [theme=dark] .colab-df-convert:hover {\n",
              "      background-color: #434B5C;\n",
              "      box-shadow: 0px 1px 3px 1px rgba(0, 0, 0, 0.15);\n",
              "      filter: drop-shadow(0px 1px 2px rgba(0, 0, 0, 0.3));\n",
              "      fill: #FFFFFF;\n",
              "    }\n",
              "  </style>\n",
              "\n",
              "      <script>\n",
              "        const buttonEl =\n",
              "          document.querySelector('#df-253d7821-98d6-416d-a3b5-136ea95f84ab button.colab-df-convert');\n",
              "        buttonEl.style.display =\n",
              "          google.colab.kernel.accessAllowed ? 'block' : 'none';\n",
              "\n",
              "        async function convertToInteractive(key) {\n",
              "          const element = document.querySelector('#df-253d7821-98d6-416d-a3b5-136ea95f84ab');\n",
              "          const dataTable =\n",
              "            await google.colab.kernel.invokeFunction('convertToInteractive',\n",
              "                                                     [key], {});\n",
              "          if (!dataTable) return;\n",
              "\n",
              "          const docLinkHtml = 'Like what you see? Visit the ' +\n",
              "            '<a target=\"_blank\" href=https://colab.research.google.com/notebooks/data_table.ipynb>data table notebook</a>'\n",
              "            + ' to learn more about interactive tables.';\n",
              "          element.innerHTML = '';\n",
              "          dataTable['output_type'] = 'display_data';\n",
              "          await google.colab.output.renderOutput(dataTable, element);\n",
              "          const docLink = document.createElement('div');\n",
              "          docLink.innerHTML = docLinkHtml;\n",
              "          element.appendChild(docLink);\n",
              "        }\n",
              "      </script>\n",
              "    </div>\n",
              "  </div>\n",
              "  "
            ]
          },
          "metadata": {},
          "execution_count": 51
        }
      ]
    },
    {
      "cell_type": "markdown",
      "source": [
        "\n",
        "\n",
        "---\n",
        "\n"
      ],
      "metadata": {
        "id": "gEk_JvV22ENI"
      }
    },
    {
      "cell_type": "markdown",
      "source": [
        "**Show Diagram**"
      ],
      "metadata": {
        "id": "eZ0h1wZw12-n"
      }
    },
    {
      "cell_type": "markdown",
      "source": [
        "Untuk IPython dfa.show_diagram() dapat digunakan. Untuk skrip python dfa.show_diagram(view=True) dapat digunakan untuk melihat grafik secara otomatis sebagai file PDF."
      ],
      "metadata": {
        "id": "_VjrTwO_15sL"
      }
    },
    {
      "cell_type": "code",
      "source": [
        "dfa.show_diagram()"
      ],
      "metadata": {
        "id": "eVzvWmUIVhRK",
        "colab": {
          "base_uri": "https://localhost:8080/",
          "height": 306
        },
        "outputId": "83f6ed96-2874-492c-8962-28940d8873c6"
      },
      "execution_count": null,
      "outputs": [
        {
          "output_type": "execute_result",
          "data": {
            "text/plain": [
              "<graphviz.dot.Digraph at 0x7f86c4c5d550>"
            ],
            "image/svg+xml": "<?xml version=\"1.0\" encoding=\"UTF-8\" standalone=\"no\"?>\n<!DOCTYPE svg PUBLIC \"-//W3C//DTD SVG 1.1//EN\"\n \"http://www.w3.org/Graphics/SVG/1.1/DTD/svg11.dtd\">\n<!-- Generated by graphviz version 2.40.1 (20161225.0304)\n -->\n<!-- Title: %3 Pages: 1 -->\n<svg width=\"285pt\" height=\"213pt\"\n viewBox=\"0.00 0.00 285.39 212.60\" xmlns=\"http://www.w3.org/2000/svg\" xmlns:xlink=\"http://www.w3.org/1999/xlink\">\n<g id=\"graph0\" class=\"graph\" transform=\"scale(1 1) rotate(0) translate(4 208.5963)\">\n<title>%3</title>\n<polygon fill=\"#ffffff\" stroke=\"transparent\" points=\"-4,4 -4,-208.5963 281.3889,-208.5963 281.3889,4 -4,4\"/>\n<!-- Initial -->\n<g id=\"node1\" class=\"node\">\n<title>Initial</title>\n<ellipse fill=\"#000000\" stroke=\"#000000\" cx=\"1.8\" cy=\"-83.7982\" rx=\"1.8\" ry=\"1.8\"/>\n</g>\n<!-- q0 -->\n<g id=\"node2\" class=\"node\">\n<title>q0</title>\n<ellipse fill=\"none\" stroke=\"#000000\" cx=\"61.3982\" cy=\"-83.7982\" rx=\"20.5982\" ry=\"20.5982\"/>\n<text text-anchor=\"middle\" x=\"61.3982\" y=\"-80.0982\" font-family=\"Times,serif\" font-size=\"14.00\" fill=\"#000000\">q0</text>\n</g>\n<!-- Initial&#45;&gt;q0 -->\n<g id=\"edge1\" class=\"edge\">\n<title>Initial&#45;&gt;q0</title>\n<path fill=\"none\" stroke=\"#000000\" d=\"M3.7829,-83.7982C8.3217,-83.7982 19.9751,-83.7982 31.6235,-83.7982\"/>\n<polygon fill=\"#000000\" stroke=\"#000000\" points=\"31.9123,-86.7733 40.4123,-83.7982 31.9122,-80.8233 31.9123,-86.7733\"/>\n</g>\n<!-- q1 -->\n<g id=\"node3\" class=\"node\">\n<title>q1</title>\n<ellipse fill=\"none\" stroke=\"#000000\" cx=\"154.9945\" cy=\"-146.7982\" rx=\"20.5982\" ry=\"20.5982\"/>\n<text text-anchor=\"middle\" x=\"154.9945\" y=\"-143.0982\" font-family=\"Times,serif\" font-size=\"14.00\" fill=\"#000000\">q1</text>\n</g>\n<!-- q0&#45;&gt;q1 -->\n<g id=\"edge2\" class=\"edge\">\n<title>q0&#45;&gt;q1</title>\n<path fill=\"none\" stroke=\"#000000\" d=\"M79.0029,-95.648C93.514,-105.4155 114.2603,-119.3798 130.4106,-130.2507\"/>\n<polygon fill=\"#000000\" stroke=\"#000000\" points=\"128.756,-132.7231 137.4687,-135.0015 132.0785,-127.7871 128.756,-132.7231\"/>\n<text text-anchor=\"middle\" x=\"108.1963\" y=\"-122.5982\" font-family=\"Times,serif\" font-size=\"14.00\" fill=\"#000000\"> 0 </text>\n</g>\n<!-- q3 -->\n<g id=\"node5\" class=\"node\">\n<title>q3</title>\n<ellipse fill=\"none\" stroke=\"#000000\" cx=\"154.9945\" cy=\"-20.7982\" rx=\"20.5982\" ry=\"20.5982\"/>\n<text text-anchor=\"middle\" x=\"154.9945\" y=\"-17.0982\" font-family=\"Times,serif\" font-size=\"14.00\" fill=\"#000000\">q3</text>\n</g>\n<!-- q0&#45;&gt;q3 -->\n<g id=\"edge3\" class=\"edge\">\n<title>q0&#45;&gt;q3</title>\n<path fill=\"none\" stroke=\"#000000\" d=\"M79.0029,-71.9483C93.514,-62.1809 114.2603,-48.2165 130.4106,-37.3457\"/>\n<polygon fill=\"#000000\" stroke=\"#000000\" points=\"132.0785,-39.8092 137.4687,-32.5948 128.756,-34.8732 132.0785,-39.8092\"/>\n<text text-anchor=\"middle\" x=\"108.1963\" y=\"-60.5982\" font-family=\"Times,serif\" font-size=\"14.00\" fill=\"#000000\"> 1 </text>\n</g>\n<!-- q1&#45;&gt;q1 -->\n<g id=\"edge5\" class=\"edge\">\n<title>q1&#45;&gt;q1</title>\n<path fill=\"none\" stroke=\"#000000\" d=\"M146.7253,-165.962C145.3201,-176.2362 148.0765,-185.5963 154.9945,-185.5963 159.8587,-185.5963 162.6654,-180.9688 163.4148,-174.6498\"/>\n<polygon fill=\"#000000\" stroke=\"#000000\" points=\"166.3861,-174.4089 163.2636,-165.962 160.437,-174.5125 166.3861,-174.4089\"/>\n<text text-anchor=\"middle\" x=\"154.9945\" y=\"-189.3963\" font-family=\"Times,serif\" font-size=\"14.00\" fill=\"#000000\"> 1 </text>\n</g>\n<!-- q2 -->\n<g id=\"node4\" class=\"node\">\n<title>q2</title>\n<ellipse fill=\"none\" stroke=\"#000000\" cx=\"252.5908\" cy=\"-146.7982\" rx=\"20.6302\" ry=\"20.6302\"/>\n<ellipse fill=\"none\" stroke=\"#000000\" cx=\"252.5908\" cy=\"-146.7982\" rx=\"24.5979\" ry=\"24.5979\"/>\n<text text-anchor=\"middle\" x=\"252.5908\" y=\"-143.0982\" font-family=\"Times,serif\" font-size=\"14.00\" fill=\"#000000\">q2</text>\n</g>\n<!-- q1&#45;&gt;q2 -->\n<g id=\"edge4\" class=\"edge\">\n<title>q1&#45;&gt;q2</title>\n<path fill=\"none\" stroke=\"#000000\" d=\"M176.1714,-146.7982C188.7066,-146.7982 204.8675,-146.7982 219.0968,-146.7982\"/>\n<polygon fill=\"#000000\" stroke=\"#000000\" points=\"219.1573,-149.7733 227.6572,-146.7982 219.1572,-143.8233 219.1573,-149.7733\"/>\n<text text-anchor=\"middle\" x=\"201.7926\" y=\"-150.5982\" font-family=\"Times,serif\" font-size=\"14.00\" fill=\"#000000\"> 0 </text>\n</g>\n<!-- q2&#45;&gt;q1 -->\n<g id=\"edge7\" class=\"edge\">\n<title>q2&#45;&gt;q1</title>\n<path fill=\"none\" stroke=\"#000000\" d=\"M231.0574,-133.9483C220.037,-128.8855 206.3336,-124.8923 193.7926,-127.7982 189.4292,-128.8092 184.9903,-130.3825 180.7485,-132.2007\"/>\n<polygon fill=\"#000000\" stroke=\"#000000\" points=\"179.3142,-129.5881 172.906,-135.9155 181.8614,-134.9653 179.3142,-129.5881\"/>\n<text text-anchor=\"middle\" x=\"201.7926\" y=\"-131.5982\" font-family=\"Times,serif\" font-size=\"14.00\" fill=\"#000000\"> 1 </text>\n</g>\n<!-- q2&#45;&gt;q2 -->\n<g id=\"edge6\" class=\"edge\">\n<title>q2&#45;&gt;q2</title>\n<path fill=\"none\" stroke=\"#000000\" d=\"M243.3623,-170.1303C242.4834,-180.5686 245.5595,-189.5963 252.5908,-189.5963 257.5346,-189.5963 260.5231,-185.1331 261.5563,-178.8546\"/>\n<polygon fill=\"#000000\" stroke=\"#000000\" points=\"264.5368,-178.7161 261.8193,-170.1303 258.5895,-178.5367 264.5368,-178.7161\"/>\n<text text-anchor=\"middle\" x=\"252.5908\" y=\"-193.3963\" font-family=\"Times,serif\" font-size=\"14.00\" fill=\"#000000\"> 0 </text>\n</g>\n<!-- q3&#45;&gt;q3 -->\n<g id=\"edge8\" class=\"edge\">\n<title>q3&#45;&gt;q3</title>\n<path fill=\"none\" stroke=\"#000000\" d=\"M150.7672,-41.5546C150.3061,-51.1834 151.7152,-59.5963 154.9945,-59.5963 157.1977,-59.5963 158.5568,-55.7986 159.0715,-50.386\"/>\n<polygon fill=\"#000000\" stroke=\"#000000\" points=\"162.0517,-50.104 159.2217,-41.5546 156.1025,-50.0028 162.0517,-50.104\"/>\n<text text-anchor=\"middle\" x=\"154.9945\" y=\"-63.3963\" font-family=\"Times,serif\" font-size=\"14.00\" fill=\"#000000\"> 0 </text>\n</g>\n<!-- q3&#45;&gt;q3 -->\n<g id=\"edge9\" class=\"edge\">\n<title>q3&#45;&gt;q3</title>\n<path fill=\"none\" stroke=\"#000000\" d=\"M147.9045,-40.5904C144.4554,-58.4579 146.8187,-77.5963 154.9945,-77.5963 161.8289,-77.5963 164.6016,-64.2226 163.3127,-49.3971\"/>\n<polygon fill=\"#000000\" stroke=\"#000000\" points=\"166.2051,-48.5979 162.0844,-40.5904 160.3121,-49.4199 166.2051,-48.5979\"/>\n<text text-anchor=\"middle\" x=\"154.9945\" y=\"-81.3963\" font-family=\"Times,serif\" font-size=\"14.00\" fill=\"#000000\"> 1 </text>\n</g>\n</g>\n</svg>\n"
          },
          "metadata": {},
          "execution_count": 52
        }
      ]
    },
    {
      "cell_type": "markdown",
      "source": [
        "Metode show_diagram juga menerima string input, dan akan mengembalikan grafik dengan panah merah gradien untuk hasil Ditolak, dan panah hijau gradien untuk hasil Diterima. Ini juga akan menampilkan tabel dengan status transisi secara bertahap. Langkah-langkah dalam tabel ini akan sesuai dengan [angka] di atas setiap panah yang dilalui.\n",
        "\n",
        "Harap dicatat bahwa untuk tujuan visual panah tambahan ditambahkan jika transisi dilalui lebih dari sekali."
      ],
      "metadata": {
        "id": "5qL-Eij-2QnA"
      }
    },
    {
      "cell_type": "code",
      "source": [
        "dfa.show_diagram(\"0011010\")"
      ],
      "metadata": {
        "id": "MR9_pbFoVjfC",
        "colab": {
          "base_uri": "https://localhost:8080/",
          "height": 667
        },
        "outputId": "46c813b4-d68e-4c62-b638-e3902a28c156"
      },
      "execution_count": null,
      "outputs": [
        {
          "output_type": "display_data",
          "data": {
            "text/plain": [
              "          [Accepted]                         \n",
              "Step: Current state: Input symbol: New state:\n",
              "1                →q0             0         q1\n",
              "2                 q1             0        *q2\n",
              "3                *q2             1         q1\n",
              "4                 q1             1         q1\n",
              "5                 q1             0        *q2\n",
              "6                *q2             1         q1\n",
              "7                 q1             0        *q2"
            ],
            "text/html": [
              "\n",
              "  <div id=\"df-46c46ede-a483-4fbf-9c76-a0417f39c6db\">\n",
              "    <div class=\"colab-df-container\">\n",
              "      <div>\n",
              "<style scoped>\n",
              "    .dataframe tbody tr th:only-of-type {\n",
              "        vertical-align: middle;\n",
              "    }\n",
              "\n",
              "    .dataframe tbody tr th {\n",
              "        vertical-align: top;\n",
              "    }\n",
              "\n",
              "    .dataframe thead tr th {\n",
              "        text-align: left;\n",
              "    }\n",
              "</style>\n",
              "<table border=\"1\" class=\"dataframe\">\n",
              "  <thead>\n",
              "    <tr>\n",
              "      <th></th>\n",
              "      <th colspan=\"3\" halign=\"left\">[Accepted]</th>\n",
              "    </tr>\n",
              "    <tr>\n",
              "      <th>Step:</th>\n",
              "      <th>Current state:</th>\n",
              "      <th>Input symbol:</th>\n",
              "      <th>New state:</th>\n",
              "    </tr>\n",
              "  </thead>\n",
              "  <tbody>\n",
              "    <tr>\n",
              "      <th>1</th>\n",
              "      <td>→q0</td>\n",
              "      <td>0</td>\n",
              "      <td>q1</td>\n",
              "    </tr>\n",
              "    <tr>\n",
              "      <th>2</th>\n",
              "      <td>q1</td>\n",
              "      <td>0</td>\n",
              "      <td>*q2</td>\n",
              "    </tr>\n",
              "    <tr>\n",
              "      <th>3</th>\n",
              "      <td>*q2</td>\n",
              "      <td>1</td>\n",
              "      <td>q1</td>\n",
              "    </tr>\n",
              "    <tr>\n",
              "      <th>4</th>\n",
              "      <td>q1</td>\n",
              "      <td>1</td>\n",
              "      <td>q1</td>\n",
              "    </tr>\n",
              "    <tr>\n",
              "      <th>5</th>\n",
              "      <td>q1</td>\n",
              "      <td>0</td>\n",
              "      <td>*q2</td>\n",
              "    </tr>\n",
              "    <tr>\n",
              "      <th>6</th>\n",
              "      <td>*q2</td>\n",
              "      <td>1</td>\n",
              "      <td>q1</td>\n",
              "    </tr>\n",
              "    <tr>\n",
              "      <th>7</th>\n",
              "      <td>q1</td>\n",
              "      <td>0</td>\n",
              "      <td>*q2</td>\n",
              "    </tr>\n",
              "  </tbody>\n",
              "</table>\n",
              "</div>\n",
              "      <button class=\"colab-df-convert\" onclick=\"convertToInteractive('df-46c46ede-a483-4fbf-9c76-a0417f39c6db')\"\n",
              "              title=\"Convert this dataframe to an interactive table.\"\n",
              "              style=\"display:none;\">\n",
              "        \n",
              "  <svg xmlns=\"http://www.w3.org/2000/svg\" height=\"24px\"viewBox=\"0 0 24 24\"\n",
              "       width=\"24px\">\n",
              "    <path d=\"M0 0h24v24H0V0z\" fill=\"none\"/>\n",
              "    <path d=\"M18.56 5.44l.94 2.06.94-2.06 2.06-.94-2.06-.94-.94-2.06-.94 2.06-2.06.94zm-11 1L8.5 8.5l.94-2.06 2.06-.94-2.06-.94L8.5 2.5l-.94 2.06-2.06.94zm10 10l.94 2.06.94-2.06 2.06-.94-2.06-.94-.94-2.06-.94 2.06-2.06.94z\"/><path d=\"M17.41 7.96l-1.37-1.37c-.4-.4-.92-.59-1.43-.59-.52 0-1.04.2-1.43.59L10.3 9.45l-7.72 7.72c-.78.78-.78 2.05 0 2.83L4 21.41c.39.39.9.59 1.41.59.51 0 1.02-.2 1.41-.59l7.78-7.78 2.81-2.81c.8-.78.8-2.07 0-2.86zM5.41 20L4 18.59l7.72-7.72 1.47 1.35L5.41 20z\"/>\n",
              "  </svg>\n",
              "      </button>\n",
              "      \n",
              "  <style>\n",
              "    .colab-df-container {\n",
              "      display:flex;\n",
              "      flex-wrap:wrap;\n",
              "      gap: 12px;\n",
              "    }\n",
              "\n",
              "    .colab-df-convert {\n",
              "      background-color: #E8F0FE;\n",
              "      border: none;\n",
              "      border-radius: 50%;\n",
              "      cursor: pointer;\n",
              "      display: none;\n",
              "      fill: #1967D2;\n",
              "      height: 32px;\n",
              "      padding: 0 0 0 0;\n",
              "      width: 32px;\n",
              "    }\n",
              "\n",
              "    .colab-df-convert:hover {\n",
              "      background-color: #E2EBFA;\n",
              "      box-shadow: 0px 1px 2px rgba(60, 64, 67, 0.3), 0px 1px 3px 1px rgba(60, 64, 67, 0.15);\n",
              "      fill: #174EA6;\n",
              "    }\n",
              "\n",
              "    [theme=dark] .colab-df-convert {\n",
              "      background-color: #3B4455;\n",
              "      fill: #D2E3FC;\n",
              "    }\n",
              "\n",
              "    [theme=dark] .colab-df-convert:hover {\n",
              "      background-color: #434B5C;\n",
              "      box-shadow: 0px 1px 3px 1px rgba(0, 0, 0, 0.15);\n",
              "      filter: drop-shadow(0px 1px 2px rgba(0, 0, 0, 0.3));\n",
              "      fill: #FFFFFF;\n",
              "    }\n",
              "  </style>\n",
              "\n",
              "      <script>\n",
              "        const buttonEl =\n",
              "          document.querySelector('#df-46c46ede-a483-4fbf-9c76-a0417f39c6db button.colab-df-convert');\n",
              "        buttonEl.style.display =\n",
              "          google.colab.kernel.accessAllowed ? 'block' : 'none';\n",
              "\n",
              "        async function convertToInteractive(key) {\n",
              "          const element = document.querySelector('#df-46c46ede-a483-4fbf-9c76-a0417f39c6db');\n",
              "          const dataTable =\n",
              "            await google.colab.kernel.invokeFunction('convertToInteractive',\n",
              "                                                     [key], {});\n",
              "          if (!dataTable) return;\n",
              "\n",
              "          const docLinkHtml = 'Like what you see? Visit the ' +\n",
              "            '<a target=\"_blank\" href=https://colab.research.google.com/notebooks/data_table.ipynb>data table notebook</a>'\n",
              "            + ' to learn more about interactive tables.';\n",
              "          element.innerHTML = '';\n",
              "          dataTable['output_type'] = 'display_data';\n",
              "          await google.colab.output.renderOutput(dataTable, element);\n",
              "          const docLink = document.createElement('div');\n",
              "          docLink.innerHTML = docLinkHtml;\n",
              "          element.appendChild(docLink);\n",
              "        }\n",
              "      </script>\n",
              "    </div>\n",
              "  </div>\n",
              "  "
            ]
          },
          "metadata": {}
        },
        {
          "output_type": "execute_result",
          "data": {
            "text/plain": [
              "<graphviz.dot.Digraph at 0x7f86c4c0df90>"
            ],
            "image/svg+xml": "<?xml version=\"1.0\" encoding=\"UTF-8\" standalone=\"no\"?>\n<!DOCTYPE svg PUBLIC \"-//W3C//DTD SVG 1.1//EN\"\n \"http://www.w3.org/Graphics/SVG/1.1/DTD/svg11.dtd\">\n<!-- Generated by graphviz version 2.40.1 (20161225.0304)\n -->\n<!-- Title: %3 Pages: 1 -->\n<svg width=\"295pt\" height=\"272pt\"\n viewBox=\"0.00 0.00 295.39 271.80\" xmlns=\"http://www.w3.org/2000/svg\" xmlns:xlink=\"http://www.w3.org/1999/xlink\">\n<g id=\"graph0\" class=\"graph\" transform=\"scale(1 1) rotate(0) translate(4 267.7982)\">\n<title>%3</title>\n<polygon fill=\"#ffffff\" stroke=\"transparent\" points=\"-4,4 -4,-267.7982 291.3889,-267.7982 291.3889,4 -4,4\"/>\n<!-- Initial -->\n<g id=\"node1\" class=\"node\">\n<title>Initial</title>\n<ellipse fill=\"#000000\" stroke=\"#000000\" cx=\"1.8\" cy=\"-83.7982\" rx=\"1.8\" ry=\"1.8\"/>\n</g>\n<!-- q0 -->\n<g id=\"node2\" class=\"node\">\n<title>q0</title>\n<ellipse fill=\"none\" stroke=\"#000000\" cx=\"61.3982\" cy=\"-83.7982\" rx=\"20.5982\" ry=\"20.5982\"/>\n<text text-anchor=\"middle\" x=\"61.3982\" y=\"-80.0982\" font-family=\"Times,serif\" font-size=\"14.00\" fill=\"#000000\">q0</text>\n</g>\n<!-- Initial&#45;&gt;q0 -->\n<g id=\"edge1\" class=\"edge\">\n<title>Initial&#45;&gt;q0</title>\n<path fill=\"none\" stroke=\"#000000\" d=\"M3.7829,-83.7982C8.3217,-83.7982 19.9751,-83.7982 31.6235,-83.7982\"/>\n<polygon fill=\"#000000\" stroke=\"#000000\" points=\"31.9123,-86.7733 40.4123,-83.7982 31.9122,-80.8233 31.9123,-86.7733\"/>\n</g>\n<!-- q1 -->\n<g id=\"node3\" class=\"node\">\n<title>q1</title>\n<ellipse fill=\"none\" stroke=\"#000000\" cx=\"159.9945\" cy=\"-146.7982\" rx=\"20.5982\" ry=\"20.5982\"/>\n<text text-anchor=\"middle\" x=\"159.9945\" y=\"-143.0982\" font-family=\"Times,serif\" font-size=\"14.00\" fill=\"#000000\">q1</text>\n</g>\n<!-- q0&#45;&gt;q1 -->\n<g id=\"edge2\" class=\"edge\">\n<title>q0&#45;&gt;q1</title>\n<path fill=\"none\" stroke=\"#ffff00\" stroke-width=\"2.5\" d=\"M79.0252,-95.0613C94.4921,-104.9441 117.1717,-119.4357 134.5963,-130.5695\"/>\n<polygon fill=\"#ffff00\" stroke=\"#ffff00\" stroke-width=\"2.5\" points=\"133.4231,-133.3503 142.1876,-135.4201 136.6268,-128.3364 133.4231,-133.3503\"/>\n<text text-anchor=\"middle\" x=\"110.6963\" y=\"-139.5982\" font-family=\"Times,serif\" font-size=\"14.00\" fill=\"#000000\"> [1]</text>\n<text text-anchor=\"middle\" x=\"110.6963\" y=\"-124.5982\" font-family=\"Times,serif\" font-size=\"14.00\" fill=\"#000000\">0 </text>\n</g>\n<!-- q3 -->\n<g id=\"node5\" class=\"node\">\n<title>q3</title>\n<ellipse fill=\"none\" stroke=\"#000000\" cx=\"159.9945\" cy=\"-20.7982\" rx=\"20.5982\" ry=\"20.5982\"/>\n<text text-anchor=\"middle\" x=\"159.9945\" y=\"-17.0982\" font-family=\"Times,serif\" font-size=\"14.00\" fill=\"#000000\">q3</text>\n</g>\n<!-- q0&#45;&gt;q3 -->\n<g id=\"edge9\" class=\"edge\">\n<title>q0&#45;&gt;q3</title>\n<path fill=\"none\" stroke=\"#000000\" d=\"M79.0252,-72.535C94.4921,-62.6522 117.1717,-48.1606 134.5963,-37.0268\"/>\n<polygon fill=\"#000000\" stroke=\"#000000\" points=\"136.6268,-39.2599 142.1876,-32.1762 133.4231,-34.246 136.6268,-39.2599\"/>\n<text text-anchor=\"middle\" x=\"110.6963\" y=\"-61.5982\" font-family=\"Times,serif\" font-size=\"14.00\" fill=\"#000000\"> 1 </text>\n</g>\n<!-- q1&#45;&gt;q1 -->\n<g id=\"edge5\" class=\"edge\">\n<title>q1&#45;&gt;q1</title>\n<path fill=\"none\" stroke=\"#80ff00\" stroke-width=\"2.5\" d=\"M151.3658,-165.962C149.8995,-176.2362 152.7757,-185.5963 159.9945,-185.5963 165.0701,-185.5963 167.999,-180.9688 168.7809,-174.6498\"/>\n<polygon fill=\"#80ff00\" stroke=\"#80ff00\" stroke-width=\"2.5\" points=\"171.752,-174.4066 168.6231,-165.962 165.803,-174.5146 171.752,-174.4066\"/>\n<text text-anchor=\"middle\" x=\"159.9945\" y=\"-204.3963\" font-family=\"Times,serif\" font-size=\"14.00\" fill=\"#000000\"> [4]</text>\n<text text-anchor=\"middle\" x=\"159.9945\" y=\"-189.3963\" font-family=\"Times,serif\" font-size=\"14.00\" fill=\"#000000\">1 </text>\n</g>\n<!-- q2 -->\n<g id=\"node4\" class=\"node\">\n<title>q2</title>\n<ellipse fill=\"none\" stroke=\"#000000\" cx=\"262.5908\" cy=\"-146.7982\" rx=\"20.6302\" ry=\"20.6302\"/>\n<ellipse fill=\"none\" stroke=\"#000000\" cx=\"262.5908\" cy=\"-146.7982\" rx=\"24.5979\" ry=\"24.5979\"/>\n<text text-anchor=\"middle\" x=\"262.5908\" y=\"-143.0982\" font-family=\"Times,serif\" font-size=\"14.00\" fill=\"#000000\">q2</text>\n</g>\n<!-- q1&#45;&gt;q2 -->\n<g id=\"edge3\" class=\"edge\">\n<title>q1&#45;&gt;q2</title>\n<path fill=\"none\" stroke=\"#d5ff00\" stroke-width=\"2.5\" d=\"M163.1361,-167.5337C167.3983,-187.5988 177.1409,-216.949 198.7926,-230.7982 223.7515,-246.7626 242.6445,-208.998 253.17,-179.0402\"/>\n<polygon fill=\"#d5ff00\" stroke=\"#d5ff00\" stroke-width=\"2.5\" points=\"256.0349,-179.8536 255.9149,-170.8488 250.3933,-177.963 256.0349,-179.8536\"/>\n<text text-anchor=\"middle\" x=\"209.2926\" y=\"-252.5982\" font-family=\"Times,serif\" font-size=\"14.00\" fill=\"#000000\"> [2]</text>\n<text text-anchor=\"middle\" x=\"209.2926\" y=\"-237.5982\" font-family=\"Times,serif\" font-size=\"14.00\" fill=\"#000000\">0 </text>\n</g>\n<!-- q1&#45;&gt;q2 -->\n<g id=\"edge6\" class=\"edge\">\n<title>q1&#45;&gt;q2</title>\n<path fill=\"none\" stroke=\"#55ff00\" stroke-width=\"2.5\" d=\"M174.3616,-162.1578C181.1142,-168.2718 189.6795,-174.6046 198.7926,-177.7982 207.6008,-180.8849 210.914,-180.6759 219.7926,-177.7982 225.9129,-175.8145 231.8915,-172.5914 237.3469,-168.9569\"/>\n<polygon fill=\"#55ff00\" stroke=\"#55ff00\" stroke-width=\"2.5\" points=\"239.2912,-171.2219 244.4258,-163.8234 235.7982,-166.4051 239.2912,-171.2219\"/>\n<text text-anchor=\"middle\" x=\"209.2926\" y=\"-198.5982\" font-family=\"Times,serif\" font-size=\"14.00\" fill=\"#000000\"> [5]</text>\n<text text-anchor=\"middle\" x=\"209.2926\" y=\"-183.5982\" font-family=\"Times,serif\" font-size=\"14.00\" fill=\"#000000\">0 </text>\n</g>\n<!-- q1&#45;&gt;q2 -->\n<g id=\"edge8\" class=\"edge\">\n<title>q1&#45;&gt;q2</title>\n<path fill=\"none\" stroke=\"#00ff00\" stroke-width=\"2.5\" d=\"M180.9182,-144.8829C186.7033,-144.4344 192.9869,-144.0223 198.7926,-143.7982 208.6331,-143.4183 219.3243,-143.663 229.0915,-144.1448\"/>\n<polygon fill=\"#00ff00\" stroke=\"#00ff00\" stroke-width=\"2.5\" points=\"229.094,-147.1247 237.7508,-144.6427 229.4357,-141.1845 229.094,-147.1247\"/>\n<text text-anchor=\"middle\" x=\"209.2926\" y=\"-162.5982\" font-family=\"Times,serif\" font-size=\"14.00\" fill=\"#000000\"> [7]</text>\n<text text-anchor=\"middle\" x=\"209.2926\" y=\"-147.5982\" font-family=\"Times,serif\" font-size=\"14.00\" fill=\"#000000\">0 </text>\n</g>\n<!-- q2&#45;&gt;q1 -->\n<g id=\"edge4\" class=\"edge\">\n<title>q2&#45;&gt;q1</title>\n<path fill=\"none\" stroke=\"#aaff00\" stroke-width=\"2.5\" d=\"M250.3438,-124.9705C238.2978,-106.577 218.8457,-84.7404 198.7926,-94.7982 197.1361,-95.629 186.9263,-109.3522 177.3966,-122.4907\"/>\n<polygon fill=\"#aaff00\" stroke=\"#aaff00\" stroke-width=\"2.5\" points=\"174.7954,-121.0113 172.231,-129.6441 179.6192,-124.4947 174.7954,-121.0113\"/>\n<text text-anchor=\"middle\" x=\"209.2926\" y=\"-113.5982\" font-family=\"Times,serif\" font-size=\"14.00\" fill=\"#000000\"> [3]</text>\n<text text-anchor=\"middle\" x=\"209.2926\" y=\"-98.5982\" font-family=\"Times,serif\" font-size=\"14.00\" fill=\"#000000\">1 </text>\n</g>\n<!-- q2&#45;&gt;q1 -->\n<g id=\"edge7\" class=\"edge\">\n<title>q2&#45;&gt;q1</title>\n<path fill=\"none\" stroke=\"#2bff00\" stroke-width=\"2.5\" d=\"M256.3325,-122.5395C246.6628,-89.7079 226.2947,-37.4351 198.7926,-57.7982 176.7594,-74.112 192.7459,-92.1258 180.7926,-116.7982 179.8255,-118.7944 178.7341,-120.8055 177.5704,-122.7901\"/>\n<polygon fill=\"#2bff00\" stroke=\"#2bff00\" stroke-width=\"2.5\" points=\"174.8914,-121.4585 172.8343,-130.226 179.9099,-124.6549 174.8914,-121.4585\"/>\n<text text-anchor=\"middle\" x=\"209.2926\" y=\"-76.5982\" font-family=\"Times,serif\" font-size=\"14.00\" fill=\"#000000\"> [6]</text>\n<text text-anchor=\"middle\" x=\"209.2926\" y=\"-61.5982\" font-family=\"Times,serif\" font-size=\"14.00\" fill=\"#000000\">1 </text>\n</g>\n<!-- q2&#45;&gt;q2 -->\n<g id=\"edge10\" class=\"edge\">\n<title>q2&#45;&gt;q2</title>\n<path fill=\"none\" stroke=\"#000000\" d=\"M253.0336,-169.6945C251.991,-180.3161 255.1767,-189.5963 262.5908,-189.5963 267.8038,-189.5963 270.9264,-185.0083 271.9585,-178.592\"/>\n<polygon fill=\"#000000\" stroke=\"#000000\" points=\"274.9413,-178.256 272.148,-169.6945 268.9926,-178.1292 274.9413,-178.256\"/>\n<text text-anchor=\"middle\" x=\"262.5908\" y=\"-193.3963\" font-family=\"Times,serif\" font-size=\"14.00\" fill=\"#000000\"> 0 </text>\n</g>\n<!-- q3&#45;&gt;q3 -->\n<g id=\"edge11\" class=\"edge\">\n<title>q3&#45;&gt;q3</title>\n<path fill=\"none\" stroke=\"#000000\" d=\"M155.6043,-41.1582C155.0623,-50.9513 156.5257,-59.5963 159.9945,-59.5963 162.3792,-59.5963 163.8161,-55.5102 164.3052,-49.7741\"/>\n<polygon fill=\"#000000\" stroke=\"#000000\" points=\"167.2811,-49.6853 164.3846,-41.1582 161.3313,-49.6304 167.2811,-49.6853\"/>\n<text text-anchor=\"middle\" x=\"159.9945\" y=\"-63.3963\" font-family=\"Times,serif\" font-size=\"14.00\" fill=\"#000000\"> 0 </text>\n</g>\n<!-- q3&#45;&gt;q3 -->\n<g id=\"edge12\" class=\"edge\">\n<title>q3&#45;&gt;q3</title>\n<path fill=\"none\" stroke=\"#000000\" d=\"M152.6561,-40.296C148.9702,-58.247 151.4163,-77.5963 159.9945,-77.5963 167.2323,-77.5963 170.1046,-63.8213 168.6114,-48.7338\"/>\n<polygon fill=\"#000000\" stroke=\"#000000\" points=\"171.5478,-48.2543 167.3328,-40.296 165.665,-49.1458 171.5478,-48.2543\"/>\n<text text-anchor=\"middle\" x=\"159.9945\" y=\"-81.3963\" font-family=\"Times,serif\" font-size=\"14.00\" fill=\"#000000\"> 1 </text>\n</g>\n</g>\n</svg>\n"
          },
          "metadata": {},
          "execution_count": 53
        }
      ]
    },
    {
      "cell_type": "code",
      "source": [
        "dfa.show_diagram(\"00111\")"
      ],
      "metadata": {
        "id": "WGUKyUloVltw",
        "colab": {
          "base_uri": "https://localhost:8080/",
          "height": 605
        },
        "outputId": "1caa7cb7-0509-4ee6-e407-fcbe64209db8"
      },
      "execution_count": null,
      "outputs": [
        {
          "output_type": "display_data",
          "data": {
            "text/plain": [
              "          [Rejected]                         \n",
              "Step: Current state: Input symbol: New state:\n",
              "1                →q0             0         q1\n",
              "2                 q1             0        *q2\n",
              "3                *q2             1         q1\n",
              "4                 q1             1         q1\n",
              "5                 q1             1         q1"
            ],
            "text/html": [
              "\n",
              "  <div id=\"df-f7e58a3a-6264-4175-ba34-f17250e10e85\">\n",
              "    <div class=\"colab-df-container\">\n",
              "      <div>\n",
              "<style scoped>\n",
              "    .dataframe tbody tr th:only-of-type {\n",
              "        vertical-align: middle;\n",
              "    }\n",
              "\n",
              "    .dataframe tbody tr th {\n",
              "        vertical-align: top;\n",
              "    }\n",
              "\n",
              "    .dataframe thead tr th {\n",
              "        text-align: left;\n",
              "    }\n",
              "</style>\n",
              "<table border=\"1\" class=\"dataframe\">\n",
              "  <thead>\n",
              "    <tr>\n",
              "      <th></th>\n",
              "      <th colspan=\"3\" halign=\"left\">[Rejected]</th>\n",
              "    </tr>\n",
              "    <tr>\n",
              "      <th>Step:</th>\n",
              "      <th>Current state:</th>\n",
              "      <th>Input symbol:</th>\n",
              "      <th>New state:</th>\n",
              "    </tr>\n",
              "  </thead>\n",
              "  <tbody>\n",
              "    <tr>\n",
              "      <th>1</th>\n",
              "      <td>→q0</td>\n",
              "      <td>0</td>\n",
              "      <td>q1</td>\n",
              "    </tr>\n",
              "    <tr>\n",
              "      <th>2</th>\n",
              "      <td>q1</td>\n",
              "      <td>0</td>\n",
              "      <td>*q2</td>\n",
              "    </tr>\n",
              "    <tr>\n",
              "      <th>3</th>\n",
              "      <td>*q2</td>\n",
              "      <td>1</td>\n",
              "      <td>q1</td>\n",
              "    </tr>\n",
              "    <tr>\n",
              "      <th>4</th>\n",
              "      <td>q1</td>\n",
              "      <td>1</td>\n",
              "      <td>q1</td>\n",
              "    </tr>\n",
              "    <tr>\n",
              "      <th>5</th>\n",
              "      <td>q1</td>\n",
              "      <td>1</td>\n",
              "      <td>q1</td>\n",
              "    </tr>\n",
              "  </tbody>\n",
              "</table>\n",
              "</div>\n",
              "      <button class=\"colab-df-convert\" onclick=\"convertToInteractive('df-f7e58a3a-6264-4175-ba34-f17250e10e85')\"\n",
              "              title=\"Convert this dataframe to an interactive table.\"\n",
              "              style=\"display:none;\">\n",
              "        \n",
              "  <svg xmlns=\"http://www.w3.org/2000/svg\" height=\"24px\"viewBox=\"0 0 24 24\"\n",
              "       width=\"24px\">\n",
              "    <path d=\"M0 0h24v24H0V0z\" fill=\"none\"/>\n",
              "    <path d=\"M18.56 5.44l.94 2.06.94-2.06 2.06-.94-2.06-.94-.94-2.06-.94 2.06-2.06.94zm-11 1L8.5 8.5l.94-2.06 2.06-.94-2.06-.94L8.5 2.5l-.94 2.06-2.06.94zm10 10l.94 2.06.94-2.06 2.06-.94-2.06-.94-.94-2.06-.94 2.06-2.06.94z\"/><path d=\"M17.41 7.96l-1.37-1.37c-.4-.4-.92-.59-1.43-.59-.52 0-1.04.2-1.43.59L10.3 9.45l-7.72 7.72c-.78.78-.78 2.05 0 2.83L4 21.41c.39.39.9.59 1.41.59.51 0 1.02-.2 1.41-.59l7.78-7.78 2.81-2.81c.8-.78.8-2.07 0-2.86zM5.41 20L4 18.59l7.72-7.72 1.47 1.35L5.41 20z\"/>\n",
              "  </svg>\n",
              "      </button>\n",
              "      \n",
              "  <style>\n",
              "    .colab-df-container {\n",
              "      display:flex;\n",
              "      flex-wrap:wrap;\n",
              "      gap: 12px;\n",
              "    }\n",
              "\n",
              "    .colab-df-convert {\n",
              "      background-color: #E8F0FE;\n",
              "      border: none;\n",
              "      border-radius: 50%;\n",
              "      cursor: pointer;\n",
              "      display: none;\n",
              "      fill: #1967D2;\n",
              "      height: 32px;\n",
              "      padding: 0 0 0 0;\n",
              "      width: 32px;\n",
              "    }\n",
              "\n",
              "    .colab-df-convert:hover {\n",
              "      background-color: #E2EBFA;\n",
              "      box-shadow: 0px 1px 2px rgba(60, 64, 67, 0.3), 0px 1px 3px 1px rgba(60, 64, 67, 0.15);\n",
              "      fill: #174EA6;\n",
              "    }\n",
              "\n",
              "    [theme=dark] .colab-df-convert {\n",
              "      background-color: #3B4455;\n",
              "      fill: #D2E3FC;\n",
              "    }\n",
              "\n",
              "    [theme=dark] .colab-df-convert:hover {\n",
              "      background-color: #434B5C;\n",
              "      box-shadow: 0px 1px 3px 1px rgba(0, 0, 0, 0.15);\n",
              "      filter: drop-shadow(0px 1px 2px rgba(0, 0, 0, 0.3));\n",
              "      fill: #FFFFFF;\n",
              "    }\n",
              "  </style>\n",
              "\n",
              "      <script>\n",
              "        const buttonEl =\n",
              "          document.querySelector('#df-f7e58a3a-6264-4175-ba34-f17250e10e85 button.colab-df-convert');\n",
              "        buttonEl.style.display =\n",
              "          google.colab.kernel.accessAllowed ? 'block' : 'none';\n",
              "\n",
              "        async function convertToInteractive(key) {\n",
              "          const element = document.querySelector('#df-f7e58a3a-6264-4175-ba34-f17250e10e85');\n",
              "          const dataTable =\n",
              "            await google.colab.kernel.invokeFunction('convertToInteractive',\n",
              "                                                     [key], {});\n",
              "          if (!dataTable) return;\n",
              "\n",
              "          const docLinkHtml = 'Like what you see? Visit the ' +\n",
              "            '<a target=\"_blank\" href=https://colab.research.google.com/notebooks/data_table.ipynb>data table notebook</a>'\n",
              "            + ' to learn more about interactive tables.';\n",
              "          element.innerHTML = '';\n",
              "          dataTable['output_type'] = 'display_data';\n",
              "          await google.colab.output.renderOutput(dataTable, element);\n",
              "          const docLink = document.createElement('div');\n",
              "          docLink.innerHTML = docLinkHtml;\n",
              "          element.appendChild(docLink);\n",
              "        }\n",
              "      </script>\n",
              "    </div>\n",
              "  </div>\n",
              "  "
            ]
          },
          "metadata": {}
        },
        {
          "output_type": "execute_result",
          "data": {
            "text/plain": [
              "<graphviz.dot.Digraph at 0x7f86c4c0af10>"
            ],
            "image/svg+xml": "<?xml version=\"1.0\" encoding=\"UTF-8\" standalone=\"no\"?>\n<!DOCTYPE svg PUBLIC \"-//W3C//DTD SVG 1.1//EN\"\n \"http://www.w3.org/Graphics/SVG/1.1/DTD/svg11.dtd\">\n<!-- Generated by graphviz version 2.40.1 (20161225.0304)\n -->\n<!-- Title: %3 Pages: 1 -->\n<svg width=\"295pt\" height=\"272pt\"\n viewBox=\"0.00 0.00 295.39 271.60\" xmlns=\"http://www.w3.org/2000/svg\" xmlns:xlink=\"http://www.w3.org/1999/xlink\">\n<g id=\"graph0\" class=\"graph\" transform=\"scale(1 1) rotate(0) translate(4 267.5963)\">\n<title>%3</title>\n<polygon fill=\"#ffffff\" stroke=\"transparent\" points=\"-4,4 -4,-267.5963 291.3889,-267.5963 291.3889,4 -4,4\"/>\n<!-- Initial -->\n<g id=\"node1\" class=\"node\">\n<title>Initial</title>\n<ellipse fill=\"#000000\" stroke=\"#000000\" cx=\"1.8\" cy=\"-83.7982\" rx=\"1.8\" ry=\"1.8\"/>\n</g>\n<!-- q0 -->\n<g id=\"node2\" class=\"node\">\n<title>q0</title>\n<ellipse fill=\"none\" stroke=\"#000000\" cx=\"61.3982\" cy=\"-83.7982\" rx=\"20.5982\" ry=\"20.5982\"/>\n<text text-anchor=\"middle\" x=\"61.3982\" y=\"-80.0982\" font-family=\"Times,serif\" font-size=\"14.00\" fill=\"#000000\">q0</text>\n</g>\n<!-- Initial&#45;&gt;q0 -->\n<g id=\"edge1\" class=\"edge\">\n<title>Initial&#45;&gt;q0</title>\n<path fill=\"none\" stroke=\"#000000\" d=\"M3.7829,-83.7982C8.3217,-83.7982 19.9751,-83.7982 31.6235,-83.7982\"/>\n<polygon fill=\"#000000\" stroke=\"#000000\" points=\"31.9123,-86.7733 40.4123,-83.7982 31.9122,-80.8233 31.9123,-86.7733\"/>\n</g>\n<!-- q1 -->\n<g id=\"node3\" class=\"node\">\n<title>q1</title>\n<ellipse fill=\"none\" stroke=\"#000000\" cx=\"159.9945\" cy=\"-146.7982\" rx=\"20.5982\" ry=\"20.5982\"/>\n<text text-anchor=\"middle\" x=\"159.9945\" y=\"-143.0982\" font-family=\"Times,serif\" font-size=\"14.00\" fill=\"#000000\">q1</text>\n</g>\n<!-- q0&#45;&gt;q1 -->\n<g id=\"edge2\" class=\"edge\">\n<title>q0&#45;&gt;q1</title>\n<path fill=\"none\" stroke=\"#ffff00\" stroke-width=\"2.5\" d=\"M79.0252,-95.0613C94.4921,-104.9441 117.1717,-119.4357 134.5963,-130.5695\"/>\n<polygon fill=\"#ffff00\" stroke=\"#ffff00\" stroke-width=\"2.5\" points=\"133.4231,-133.3503 142.1876,-135.4201 136.6268,-128.3364 133.4231,-133.3503\"/>\n<text text-anchor=\"middle\" x=\"110.6963\" y=\"-139.5982\" font-family=\"Times,serif\" font-size=\"14.00\" fill=\"#000000\"> [1]</text>\n<text text-anchor=\"middle\" x=\"110.6963\" y=\"-124.5982\" font-family=\"Times,serif\" font-size=\"14.00\" fill=\"#000000\">0 </text>\n</g>\n<!-- q3 -->\n<g id=\"node5\" class=\"node\">\n<title>q3</title>\n<ellipse fill=\"none\" stroke=\"#000000\" cx=\"159.9945\" cy=\"-20.7982\" rx=\"20.5982\" ry=\"20.5982\"/>\n<text text-anchor=\"middle\" x=\"159.9945\" y=\"-17.0982\" font-family=\"Times,serif\" font-size=\"14.00\" fill=\"#000000\">q3</text>\n</g>\n<!-- q0&#45;&gt;q3 -->\n<g id=\"edge7\" class=\"edge\">\n<title>q0&#45;&gt;q3</title>\n<path fill=\"none\" stroke=\"#000000\" d=\"M79.0252,-72.535C94.4921,-62.6522 117.1717,-48.1606 134.5963,-37.0268\"/>\n<polygon fill=\"#000000\" stroke=\"#000000\" points=\"136.6268,-39.2599 142.1876,-32.1762 133.4231,-34.246 136.6268,-39.2599\"/>\n<text text-anchor=\"middle\" x=\"110.6963\" y=\"-62.5982\" font-family=\"Times,serif\" font-size=\"14.00\" fill=\"#000000\"> 1 </text>\n</g>\n<!-- q1&#45;&gt;q1 -->\n<g id=\"edge5\" class=\"edge\">\n<title>q1&#45;&gt;q1</title>\n<path fill=\"none\" stroke=\"#ff4000\" stroke-width=\"2.5\" d=\"M155.6043,-167.1582C155.0623,-176.9513 156.5257,-185.5963 159.9945,-185.5963 162.3792,-185.5963 163.8161,-181.5102 164.3052,-175.7741\"/>\n<polygon fill=\"#ff4000\" stroke=\"#ff4000\" stroke-width=\"2.5\" points=\"167.2811,-175.6853 164.3846,-167.1582 161.3313,-175.6304 167.2811,-175.6853\"/>\n<text text-anchor=\"middle\" x=\"159.9945\" y=\"-204.3963\" font-family=\"Times,serif\" font-size=\"14.00\" fill=\"#000000\"> [4]</text>\n<text text-anchor=\"middle\" x=\"159.9945\" y=\"-189.3963\" font-family=\"Times,serif\" font-size=\"14.00\" fill=\"#000000\">1 </text>\n</g>\n<!-- q1&#45;&gt;q1 -->\n<g id=\"edge6\" class=\"edge\">\n<title>q1&#45;&gt;q1</title>\n<path fill=\"none\" stroke=\"#ff0000\" stroke-width=\"2.5\" d=\"M153.0385,-166.5712C148.8164,-188.4167 151.1351,-215.5963 159.9945,-215.5963 167.7118,-215.5963 170.466,-194.9723 168.2571,-175.2155\"/>\n<polygon fill=\"#ff0000\" stroke=\"#ff0000\" stroke-width=\"2.5\" points=\"171.1626,-174.531 166.9505,-166.5712 165.2794,-175.4204 171.1626,-174.531\"/>\n<text text-anchor=\"middle\" x=\"159.9945\" y=\"-234.3963\" font-family=\"Times,serif\" font-size=\"14.00\" fill=\"#000000\"> [5]</text>\n<text text-anchor=\"middle\" x=\"159.9945\" y=\"-219.3963\" font-family=\"Times,serif\" font-size=\"14.00\" fill=\"#000000\">1 </text>\n</g>\n<!-- q2 -->\n<g id=\"node4\" class=\"node\">\n<title>q2</title>\n<ellipse fill=\"none\" stroke=\"#000000\" cx=\"262.5908\" cy=\"-145.7982\" rx=\"20.6302\" ry=\"20.6302\"/>\n<ellipse fill=\"none\" stroke=\"#000000\" cx=\"262.5908\" cy=\"-145.7982\" rx=\"24.5979\" ry=\"24.5979\"/>\n<text text-anchor=\"middle\" x=\"262.5908\" y=\"-142.0982\" font-family=\"Times,serif\" font-size=\"14.00\" fill=\"#000000\">q2</text>\n</g>\n<!-- q1&#45;&gt;q2 -->\n<g id=\"edge3\" class=\"edge\">\n<title>q1&#45;&gt;q2</title>\n<path fill=\"none\" stroke=\"#ffbf00\" stroke-width=\"2.5\" d=\"M180.9049,-149.3516C186.69,-149.9496 192.9768,-150.4991 198.7926,-150.7982 208.1136,-151.2774 210.4751,-151.3406 219.7926,-150.7982 222.7962,-150.6233 225.9124,-150.38 229.0316,-150.094\"/>\n<polygon fill=\"#ffbf00\" stroke=\"#ffbf00\" stroke-width=\"2.5\" points=\"229.5893,-153.0274 237.7396,-149.1966 228.9794,-147.1087 229.5893,-153.0274\"/>\n<text text-anchor=\"middle\" x=\"209.2926\" y=\"-169.5982\" font-family=\"Times,serif\" font-size=\"14.00\" fill=\"#000000\"> [2]</text>\n<text text-anchor=\"middle\" x=\"209.2926\" y=\"-154.5982\" font-family=\"Times,serif\" font-size=\"14.00\" fill=\"#000000\">0 </text>\n</g>\n<!-- q2&#45;&gt;q1 -->\n<g id=\"edge4\" class=\"edge\">\n<title>q2&#45;&gt;q1</title>\n<path fill=\"none\" stroke=\"#ff8000\" stroke-width=\"2.5\" d=\"M244.0002,-129.1306C231.4781,-119.9692 214.4513,-111.4504 198.7926,-116.7982 192.6991,-118.8792 186.8199,-122.3488 181.5602,-126.2049\"/>\n<polygon fill=\"#ff8000\" stroke=\"#ff8000\" stroke-width=\"2.5\" points=\"179.5864,-123.9741 174.81,-131.6086 183.3049,-128.619 179.5864,-123.9741\"/>\n<text text-anchor=\"middle\" x=\"209.2926\" y=\"-135.5982\" font-family=\"Times,serif\" font-size=\"14.00\" fill=\"#000000\"> [3]</text>\n<text text-anchor=\"middle\" x=\"209.2926\" y=\"-120.5982\" font-family=\"Times,serif\" font-size=\"14.00\" fill=\"#000000\">1 </text>\n</g>\n<!-- q2&#45;&gt;q2 -->\n<g id=\"edge8\" class=\"edge\">\n<title>q2&#45;&gt;q2</title>\n<path fill=\"none\" stroke=\"#000000\" d=\"M253.0336,-168.6945C251.991,-179.3161 255.1767,-188.5963 262.5908,-188.5963 267.8038,-188.5963 270.9264,-184.0083 271.9585,-177.592\"/>\n<polygon fill=\"#000000\" stroke=\"#000000\" points=\"274.9413,-177.256 272.148,-168.6945 268.9926,-177.1292 274.9413,-177.256\"/>\n<text text-anchor=\"middle\" x=\"262.5908\" y=\"-192.3963\" font-family=\"Times,serif\" font-size=\"14.00\" fill=\"#000000\"> 0 </text>\n</g>\n<!-- q3&#45;&gt;q3 -->\n<g id=\"edge9\" class=\"edge\">\n<title>q3&#45;&gt;q3</title>\n<path fill=\"none\" stroke=\"#000000\" d=\"M155.6043,-41.1582C155.0623,-50.9513 156.5257,-59.5963 159.9945,-59.5963 162.3792,-59.5963 163.8161,-55.5102 164.3052,-49.7741\"/>\n<polygon fill=\"#000000\" stroke=\"#000000\" points=\"167.2811,-49.6853 164.3846,-41.1582 161.3313,-49.6304 167.2811,-49.6853\"/>\n<text text-anchor=\"middle\" x=\"159.9945\" y=\"-63.3963\" font-family=\"Times,serif\" font-size=\"14.00\" fill=\"#000000\"> 0 </text>\n</g>\n<!-- q3&#45;&gt;q3 -->\n<g id=\"edge10\" class=\"edge\">\n<title>q3&#45;&gt;q3</title>\n<path fill=\"none\" stroke=\"#000000\" d=\"M152.6561,-40.296C148.9702,-58.247 151.4163,-77.5963 159.9945,-77.5963 167.2323,-77.5963 170.1046,-63.8213 168.6114,-48.7338\"/>\n<polygon fill=\"#000000\" stroke=\"#000000\" points=\"171.5478,-48.2543 167.3328,-40.296 165.665,-49.1458 171.5478,-48.2543\"/>\n<text text-anchor=\"middle\" x=\"159.9945\" y=\"-81.3963\" font-family=\"Times,serif\" font-size=\"14.00\" fill=\"#000000\"> 1 </text>\n</g>\n</g>\n</svg>\n"
          },
          "metadata": {},
          "execution_count": 54
        }
      ]
    }
  ]
}